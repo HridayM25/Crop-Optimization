{
 "cells": [
  {
   "cell_type": "code",
   "execution_count": 1,
   "id": "b7696ac6",
   "metadata": {
    "execution": {
     "iopub.execute_input": "2023-02-12T12:02:35.519825Z",
     "iopub.status.busy": "2023-02-12T12:02:35.518738Z",
     "iopub.status.idle": "2023-02-12T12:02:36.495116Z",
     "shell.execute_reply": "2023-02-12T12:02:36.493795Z"
    },
    "id": "mZVHMkPEbTTJ",
    "papermill": {
     "duration": 0.999686,
     "end_time": "2023-02-12T12:02:36.498344",
     "exception": false,
     "start_time": "2023-02-12T12:02:35.498658",
     "status": "completed"
    },
    "tags": []
   },
   "outputs": [],
   "source": [
    "import numpy as np\n",
    "import pandas as pd\n",
    "import matplotlib.pyplot as plt\n",
    "import seaborn as sns"
   ]
  },
  {
   "cell_type": "code",
   "execution_count": 7,
   "id": "650ab70c",
   "metadata": {
    "execution": {
     "iopub.execute_input": "2023-02-12T12:02:36.607952Z",
     "iopub.status.busy": "2023-02-12T12:02:36.607153Z",
     "iopub.status.idle": "2023-02-12T12:02:36.648525Z",
     "shell.execute_reply": "2023-02-12T12:02:36.647331Z"
    },
    "id": "IRLLQswzbgHs",
    "outputId": "f63bfcba-941a-403c-e72f-4d79001f2c26",
    "papermill": {
     "duration": 0.063866,
     "end_time": "2023-02-12T12:02:36.651314",
     "exception": false,
     "start_time": "2023-02-12T12:02:36.587448",
     "status": "completed"
    },
    "tags": []
   },
   "outputs": [
    {
     "data": {
      "text/html": [
       "<div>\n",
       "<style scoped>\n",
       "    .dataframe tbody tr th:only-of-type {\n",
       "        vertical-align: middle;\n",
       "    }\n",
       "\n",
       "    .dataframe tbody tr th {\n",
       "        vertical-align: top;\n",
       "    }\n",
       "\n",
       "    .dataframe thead th {\n",
       "        text-align: right;\n",
       "    }\n",
       "</style>\n",
       "<table border=\"1\" class=\"dataframe\">\n",
       "  <thead>\n",
       "    <tr style=\"text-align: right;\">\n",
       "      <th></th>\n",
       "      <th>N_SOIL</th>\n",
       "      <th>P_SOIL</th>\n",
       "      <th>K_SOIL</th>\n",
       "      <th>TEMPERATURE</th>\n",
       "      <th>HUMIDITY</th>\n",
       "      <th>ph</th>\n",
       "      <th>RAINFALL</th>\n",
       "      <th>STATE</th>\n",
       "      <th>CROP_PRICE</th>\n",
       "      <th>CROP</th>\n",
       "    </tr>\n",
       "  </thead>\n",
       "  <tbody>\n",
       "    <tr>\n",
       "      <th>0</th>\n",
       "      <td>90</td>\n",
       "      <td>42</td>\n",
       "      <td>43</td>\n",
       "      <td>20.879744</td>\n",
       "      <td>82.002744</td>\n",
       "      <td>6.502985</td>\n",
       "      <td>202.935536</td>\n",
       "      <td>Andaman and Nicobar</td>\n",
       "      <td>7000</td>\n",
       "      <td>Rice</td>\n",
       "    </tr>\n",
       "    <tr>\n",
       "      <th>1</th>\n",
       "      <td>85</td>\n",
       "      <td>58</td>\n",
       "      <td>41</td>\n",
       "      <td>21.770462</td>\n",
       "      <td>80.319644</td>\n",
       "      <td>7.038096</td>\n",
       "      <td>226.655537</td>\n",
       "      <td>Andaman and Nicobar</td>\n",
       "      <td>5000</td>\n",
       "      <td>Rice</td>\n",
       "    </tr>\n",
       "    <tr>\n",
       "      <th>2</th>\n",
       "      <td>60</td>\n",
       "      <td>55</td>\n",
       "      <td>44</td>\n",
       "      <td>23.004459</td>\n",
       "      <td>82.320763</td>\n",
       "      <td>7.840207</td>\n",
       "      <td>263.964248</td>\n",
       "      <td>Andaman and Nicobar</td>\n",
       "      <td>7000</td>\n",
       "      <td>Rice</td>\n",
       "    </tr>\n",
       "    <tr>\n",
       "      <th>3</th>\n",
       "      <td>74</td>\n",
       "      <td>35</td>\n",
       "      <td>40</td>\n",
       "      <td>26.491096</td>\n",
       "      <td>80.158363</td>\n",
       "      <td>6.980401</td>\n",
       "      <td>242.864034</td>\n",
       "      <td>Andaman and Nicobar</td>\n",
       "      <td>7000</td>\n",
       "      <td>Rice</td>\n",
       "    </tr>\n",
       "    <tr>\n",
       "      <th>4</th>\n",
       "      <td>78</td>\n",
       "      <td>42</td>\n",
       "      <td>42</td>\n",
       "      <td>20.130175</td>\n",
       "      <td>81.604873</td>\n",
       "      <td>7.628473</td>\n",
       "      <td>262.717340</td>\n",
       "      <td>Andaman and Nicobar</td>\n",
       "      <td>120000</td>\n",
       "      <td>Rice</td>\n",
       "    </tr>\n",
       "  </tbody>\n",
       "</table>\n",
       "</div>"
      ],
      "text/plain": [
       "   N_SOIL  P_SOIL  K_SOIL  TEMPERATURE   HUMIDITY        ph    RAINFALL  \\\n",
       "0      90      42      43    20.879744  82.002744  6.502985  202.935536   \n",
       "1      85      58      41    21.770462  80.319644  7.038096  226.655537   \n",
       "2      60      55      44    23.004459  82.320763  7.840207  263.964248   \n",
       "3      74      35      40    26.491096  80.158363  6.980401  242.864034   \n",
       "4      78      42      42    20.130175  81.604873  7.628473  262.717340   \n",
       "\n",
       "                 STATE  CROP_PRICE  CROP  \n",
       "0  Andaman and Nicobar        7000  Rice  \n",
       "1  Andaman and Nicobar        5000  Rice  \n",
       "2  Andaman and Nicobar        7000  Rice  \n",
       "3  Andaman and Nicobar        7000  Rice  \n",
       "4  Andaman and Nicobar      120000  Rice  "
      ]
     },
     "execution_count": 7,
     "metadata": {},
     "output_type": "execute_result"
    }
   ],
   "source": [
    "df=pd.read_csv('indiancrop_dataset.csv')\n",
    "df.head()"
   ]
  },
  {
   "cell_type": "code",
   "execution_count": 8,
   "id": "b284a09f",
   "metadata": {
    "execution": {
     "iopub.execute_input": "2023-02-12T12:02:36.691088Z",
     "iopub.status.busy": "2023-02-12T12:02:36.690315Z",
     "iopub.status.idle": "2023-02-12T12:02:36.716066Z",
     "shell.execute_reply": "2023-02-12T12:02:36.714450Z"
    },
    "id": "O0_PAPWxb_0i",
    "outputId": "65e217b5-66df-406b-d611-cae86ac8818e",
    "papermill": {
     "duration": 0.048429,
     "end_time": "2023-02-12T12:02:36.718976",
     "exception": false,
     "start_time": "2023-02-12T12:02:36.670547",
     "status": "completed"
    },
    "tags": []
   },
   "outputs": [
    {
     "name": "stdout",
     "output_type": "stream",
     "text": [
      "<class 'pandas.core.frame.DataFrame'>\n",
      "RangeIndex: 2200 entries, 0 to 2199\n",
      "Data columns (total 10 columns):\n",
      " #   Column       Non-Null Count  Dtype  \n",
      "---  ------       --------------  -----  \n",
      " 0   N_SOIL       2200 non-null   int64  \n",
      " 1   P_SOIL       2200 non-null   int64  \n",
      " 2   K_SOIL       2200 non-null   int64  \n",
      " 3   TEMPERATURE  2200 non-null   float64\n",
      " 4   HUMIDITY     2200 non-null   float64\n",
      " 5   ph           2200 non-null   float64\n",
      " 6   RAINFALL     2200 non-null   float64\n",
      " 7   STATE        2200 non-null   object \n",
      " 8   CROP_PRICE   2200 non-null   int64  \n",
      " 9   CROP         2200 non-null   object \n",
      "dtypes: float64(4), int64(4), object(2)\n",
      "memory usage: 172.0+ KB\n"
     ]
    }
   ],
   "source": [
    "df.info()"
   ]
  },
  {
   "cell_type": "code",
   "execution_count": 11,
   "id": "56a44a31",
   "metadata": {},
   "outputs": [
    {
     "data": {
      "text/plain": [
       "0       Andaman and Nicobar\n",
       "1       Andaman and Nicobar\n",
       "2       Andaman and Nicobar\n",
       "3       Andaman and Nicobar\n",
       "4       Andaman and Nicobar\n",
       "               ...         \n",
       "2195            West Bengal\n",
       "2196            West Bengal\n",
       "2197            West Bengal\n",
       "2198            West Bengal\n",
       "2199            West Bengal\n",
       "Name: STATE, Length: 2200, dtype: object"
      ]
     },
     "execution_count": 11,
     "metadata": {},
     "output_type": "execute_result"
    }
   ],
   "source": [
    "df[\"STATE\"].nuni"
   ]
  },
  {
   "cell_type": "code",
   "execution_count": 5,
   "id": "91f572ed",
   "metadata": {
    "execution": {
     "iopub.execute_input": "2023-02-12T12:02:37.368267Z",
     "iopub.status.busy": "2023-02-12T12:02:37.367866Z",
     "iopub.status.idle": "2023-02-12T12:02:37.374562Z",
     "shell.execute_reply": "2023-02-12T12:02:37.373641Z"
    },
    "id": "UZawTrvfcU0W",
    "papermill": {
     "duration": 0.029798,
     "end_time": "2023-02-12T12:02:37.376588",
     "exception": false,
     "start_time": "2023-02-12T12:02:37.346790",
     "status": "completed"
    },
    "tags": []
   },
   "outputs": [],
   "source": [
    "df.drop(['STATE'],axis=1,inplace=True)"
   ]
  },
  {
   "cell_type": "code",
   "execution_count": 6,
   "id": "11237e91",
   "metadata": {
    "execution": {
     "iopub.execute_input": "2023-02-12T12:02:37.417433Z",
     "iopub.status.busy": "2023-02-12T12:02:37.416649Z",
     "iopub.status.idle": "2023-02-12T12:02:37.435774Z",
     "shell.execute_reply": "2023-02-12T12:02:37.434543Z"
    },
    "id": "pfEhVcYpgpOW",
    "outputId": "8dadc739-a408-4c66-f017-de7d94403901",
    "papermill": {
     "duration": 0.042164,
     "end_time": "2023-02-12T12:02:37.438155",
     "exception": false,
     "start_time": "2023-02-12T12:02:37.395991",
     "status": "completed"
    },
    "tags": []
   },
   "outputs": [
    {
     "data": {
      "text/html": [
       "<div>\n",
       "<style scoped>\n",
       "    .dataframe tbody tr th:only-of-type {\n",
       "        vertical-align: middle;\n",
       "    }\n",
       "\n",
       "    .dataframe tbody tr th {\n",
       "        vertical-align: top;\n",
       "    }\n",
       "\n",
       "    .dataframe thead th {\n",
       "        text-align: right;\n",
       "    }\n",
       "</style>\n",
       "<table border=\"1\" class=\"dataframe\">\n",
       "  <thead>\n",
       "    <tr style=\"text-align: right;\">\n",
       "      <th></th>\n",
       "      <th>N_SOIL</th>\n",
       "      <th>P_SOIL</th>\n",
       "      <th>K_SOIL</th>\n",
       "      <th>TEMPERATURE</th>\n",
       "      <th>HUMIDITY</th>\n",
       "      <th>ph</th>\n",
       "      <th>RAINFALL</th>\n",
       "      <th>CROP_PRICE</th>\n",
       "      <th>CROP</th>\n",
       "    </tr>\n",
       "  </thead>\n",
       "  <tbody>\n",
       "    <tr>\n",
       "      <th>0</th>\n",
       "      <td>90</td>\n",
       "      <td>42</td>\n",
       "      <td>43</td>\n",
       "      <td>20.879744</td>\n",
       "      <td>82.002744</td>\n",
       "      <td>6.502985</td>\n",
       "      <td>202.935536</td>\n",
       "      <td>7000</td>\n",
       "      <td>Rice</td>\n",
       "    </tr>\n",
       "    <tr>\n",
       "      <th>1</th>\n",
       "      <td>85</td>\n",
       "      <td>58</td>\n",
       "      <td>41</td>\n",
       "      <td>21.770462</td>\n",
       "      <td>80.319644</td>\n",
       "      <td>7.038096</td>\n",
       "      <td>226.655537</td>\n",
       "      <td>5000</td>\n",
       "      <td>Rice</td>\n",
       "    </tr>\n",
       "    <tr>\n",
       "      <th>2</th>\n",
       "      <td>60</td>\n",
       "      <td>55</td>\n",
       "      <td>44</td>\n",
       "      <td>23.004459</td>\n",
       "      <td>82.320763</td>\n",
       "      <td>7.840207</td>\n",
       "      <td>263.964248</td>\n",
       "      <td>7000</td>\n",
       "      <td>Rice</td>\n",
       "    </tr>\n",
       "    <tr>\n",
       "      <th>3</th>\n",
       "      <td>74</td>\n",
       "      <td>35</td>\n",
       "      <td>40</td>\n",
       "      <td>26.491096</td>\n",
       "      <td>80.158363</td>\n",
       "      <td>6.980401</td>\n",
       "      <td>242.864034</td>\n",
       "      <td>7000</td>\n",
       "      <td>Rice</td>\n",
       "    </tr>\n",
       "    <tr>\n",
       "      <th>4</th>\n",
       "      <td>78</td>\n",
       "      <td>42</td>\n",
       "      <td>42</td>\n",
       "      <td>20.130175</td>\n",
       "      <td>81.604873</td>\n",
       "      <td>7.628473</td>\n",
       "      <td>262.717340</td>\n",
       "      <td>120000</td>\n",
       "      <td>Rice</td>\n",
       "    </tr>\n",
       "    <tr>\n",
       "      <th>...</th>\n",
       "      <td>...</td>\n",
       "      <td>...</td>\n",
       "      <td>...</td>\n",
       "      <td>...</td>\n",
       "      <td>...</td>\n",
       "      <td>...</td>\n",
       "      <td>...</td>\n",
       "      <td>...</td>\n",
       "      <td>...</td>\n",
       "    </tr>\n",
       "    <tr>\n",
       "      <th>2195</th>\n",
       "      <td>107</td>\n",
       "      <td>34</td>\n",
       "      <td>32</td>\n",
       "      <td>26.774637</td>\n",
       "      <td>66.413269</td>\n",
       "      <td>6.780064</td>\n",
       "      <td>177.774507</td>\n",
       "      <td>1000</td>\n",
       "      <td>Coffee</td>\n",
       "    </tr>\n",
       "    <tr>\n",
       "      <th>2196</th>\n",
       "      <td>99</td>\n",
       "      <td>15</td>\n",
       "      <td>27</td>\n",
       "      <td>27.417112</td>\n",
       "      <td>56.636362</td>\n",
       "      <td>6.086922</td>\n",
       "      <td>127.924610</td>\n",
       "      <td>800</td>\n",
       "      <td>Coffee</td>\n",
       "    </tr>\n",
       "    <tr>\n",
       "      <th>2197</th>\n",
       "      <td>118</td>\n",
       "      <td>33</td>\n",
       "      <td>30</td>\n",
       "      <td>24.131797</td>\n",
       "      <td>67.225123</td>\n",
       "      <td>6.362608</td>\n",
       "      <td>173.322839</td>\n",
       "      <td>560</td>\n",
       "      <td>Coffee</td>\n",
       "    </tr>\n",
       "    <tr>\n",
       "      <th>2198</th>\n",
       "      <td>117</td>\n",
       "      <td>32</td>\n",
       "      <td>34</td>\n",
       "      <td>26.272418</td>\n",
       "      <td>52.127394</td>\n",
       "      <td>6.758793</td>\n",
       "      <td>127.175293</td>\n",
       "      <td>1500</td>\n",
       "      <td>Coffee</td>\n",
       "    </tr>\n",
       "    <tr>\n",
       "      <th>2199</th>\n",
       "      <td>104</td>\n",
       "      <td>18</td>\n",
       "      <td>30</td>\n",
       "      <td>23.603016</td>\n",
       "      <td>60.396475</td>\n",
       "      <td>6.779833</td>\n",
       "      <td>140.937041</td>\n",
       "      <td>1400</td>\n",
       "      <td>Coffee</td>\n",
       "    </tr>\n",
       "  </tbody>\n",
       "</table>\n",
       "<p>2200 rows × 9 columns</p>\n",
       "</div>"
      ],
      "text/plain": [
       "      N_SOIL  P_SOIL  K_SOIL  TEMPERATURE   HUMIDITY        ph    RAINFALL  \\\n",
       "0         90      42      43    20.879744  82.002744  6.502985  202.935536   \n",
       "1         85      58      41    21.770462  80.319644  7.038096  226.655537   \n",
       "2         60      55      44    23.004459  82.320763  7.840207  263.964248   \n",
       "3         74      35      40    26.491096  80.158363  6.980401  242.864034   \n",
       "4         78      42      42    20.130175  81.604873  7.628473  262.717340   \n",
       "...      ...     ...     ...          ...        ...       ...         ...   \n",
       "2195     107      34      32    26.774637  66.413269  6.780064  177.774507   \n",
       "2196      99      15      27    27.417112  56.636362  6.086922  127.924610   \n",
       "2197     118      33      30    24.131797  67.225123  6.362608  173.322839   \n",
       "2198     117      32      34    26.272418  52.127394  6.758793  127.175293   \n",
       "2199     104      18      30    23.603016  60.396475  6.779833  140.937041   \n",
       "\n",
       "      CROP_PRICE    CROP  \n",
       "0           7000    Rice  \n",
       "1           5000    Rice  \n",
       "2           7000    Rice  \n",
       "3           7000    Rice  \n",
       "4         120000    Rice  \n",
       "...          ...     ...  \n",
       "2195        1000  Coffee  \n",
       "2196         800  Coffee  \n",
       "2197         560  Coffee  \n",
       "2198        1500  Coffee  \n",
       "2199        1400  Coffee  \n",
       "\n",
       "[2200 rows x 9 columns]"
      ]
     },
     "execution_count": 6,
     "metadata": {},
     "output_type": "execute_result"
    }
   ],
   "source": [
    "df"
   ]
  },
  {
   "cell_type": "markdown",
   "id": "57994f7c",
   "metadata": {
    "papermill": {
     "duration": 0.020238,
     "end_time": "2023-02-12T12:02:37.478926",
     "exception": false,
     "start_time": "2023-02-12T12:02:37.458688",
     "status": "completed"
    },
    "tags": []
   },
   "source": [
    "# **SKEWNESS**"
   ]
  },
  {
   "cell_type": "code",
   "execution_count": 11,
   "id": "fcef1637",
   "metadata": {
    "execution": {
     "iopub.execute_input": "2023-02-12T12:02:37.522741Z",
     "iopub.status.busy": "2023-02-12T12:02:37.521493Z",
     "iopub.status.idle": "2023-02-12T12:02:37.532755Z",
     "shell.execute_reply": "2023-02-12T12:02:37.531462Z"
    },
    "id": "8YVLZKdIgxWS",
    "outputId": "46aadfdb-6319-4073-ab8c-d943f9f4e4ac",
    "papermill": {
     "duration": 0.035909,
     "end_time": "2023-02-12T12:02:37.535446",
     "exception": false,
     "start_time": "2023-02-12T12:02:37.499537",
     "status": "completed"
    },
    "tags": []
   },
   "outputs": [
    {
     "name": "stderr",
     "output_type": "stream",
     "text": [
      "/opt/conda/lib/python3.7/site-packages/ipykernel_launcher.py:1: FutureWarning: Dropping of nuisance columns in DataFrame reductions (with 'numeric_only=None') is deprecated; in a future version this will raise TypeError.  Select only valid columns before calling the reduction.\n",
      "  \"\"\"Entry point for launching an IPython kernel.\n"
     ]
    },
    {
     "data": {
      "text/plain": [
       "N_SOIL          0.509721\n",
       "P_SOIL          1.010773\n",
       "K_SOIL          2.375167\n",
       "TEMPERATURE     0.184933\n",
       "HUMIDITY       -1.091708\n",
       "ph              0.283929\n",
       "RAINFALL        0.965756\n",
       "CROP_PRICE     15.926745\n",
       "dtype: float64"
      ]
     },
     "execution_count": 11,
     "metadata": {},
     "output_type": "execute_result"
    }
   ],
   "source": [
    "df.skew()"
   ]
  },
  {
   "cell_type": "code",
   "execution_count": 12,
   "id": "c33824da",
   "metadata": {
    "execution": {
     "iopub.execute_input": "2023-02-12T12:02:37.579236Z",
     "iopub.status.busy": "2023-02-12T12:02:37.578459Z",
     "iopub.status.idle": "2023-02-12T12:02:37.584686Z",
     "shell.execute_reply": "2023-02-12T12:02:37.583665Z"
    },
    "id": "20hfwUjrhDON",
    "papermill": {
     "duration": 0.030518,
     "end_time": "2023-02-12T12:02:37.586940",
     "exception": false,
     "start_time": "2023-02-12T12:02:37.556422",
     "status": "completed"
    },
    "tags": []
   },
   "outputs": [],
   "source": [
    "df.P_SOIL=np.log(df['P_SOIL'])"
   ]
  },
  {
   "cell_type": "code",
   "execution_count": 13,
   "id": "54b12c69",
   "metadata": {
    "execution": {
     "iopub.execute_input": "2023-02-12T12:02:37.630250Z",
     "iopub.status.busy": "2023-02-12T12:02:37.629602Z",
     "iopub.status.idle": "2023-02-12T12:02:37.635395Z",
     "shell.execute_reply": "2023-02-12T12:02:37.634433Z"
    },
    "id": "BPnMsKEPdH9q",
    "papermill": {
     "duration": 0.029925,
     "end_time": "2023-02-12T12:02:37.637613",
     "exception": false,
     "start_time": "2023-02-12T12:02:37.607688",
     "status": "completed"
    },
    "tags": []
   },
   "outputs": [],
   "source": [
    "df.K_SOIL=np.log(df['K_SOIL'])"
   ]
  },
  {
   "cell_type": "code",
   "execution_count": 14,
   "id": "9422ecfe",
   "metadata": {
    "execution": {
     "iopub.execute_input": "2023-02-12T12:02:37.682460Z",
     "iopub.status.busy": "2023-02-12T12:02:37.681834Z",
     "iopub.status.idle": "2023-02-12T12:02:37.688079Z",
     "shell.execute_reply": "2023-02-12T12:02:37.686929Z"
    },
    "id": "FLy_jKBXsShN",
    "papermill": {
     "duration": 0.032063,
     "end_time": "2023-02-12T12:02:37.690468",
     "exception": false,
     "start_time": "2023-02-12T12:02:37.658405",
     "status": "completed"
    },
    "tags": []
   },
   "outputs": [],
   "source": [
    "df['HUMIDITY']=np.log(df['HUMIDITY'])"
   ]
  },
  {
   "cell_type": "code",
   "execution_count": 15,
   "id": "c49ba9e4",
   "metadata": {
    "execution": {
     "iopub.execute_input": "2023-02-12T12:02:37.734760Z",
     "iopub.status.busy": "2023-02-12T12:02:37.734344Z",
     "iopub.status.idle": "2023-02-12T12:02:37.744920Z",
     "shell.execute_reply": "2023-02-12T12:02:37.743739Z"
    },
    "id": "h1gLwSzMktz1",
    "outputId": "a304166c-e1c4-4917-d1c3-44d1d3c31c84",
    "papermill": {
     "duration": 0.035616,
     "end_time": "2023-02-12T12:02:37.747331",
     "exception": false,
     "start_time": "2023-02-12T12:02:37.711715",
     "status": "completed"
    },
    "tags": []
   },
   "outputs": [
    {
     "data": {
      "text/plain": [
       "950.0"
      ]
     },
     "execution_count": 15,
     "metadata": {},
     "output_type": "execute_result"
    }
   ],
   "source": [
    "iq1=df['CROP_PRICE'].quantile(0.25)\n",
    "iq2=df['CROP_PRICE'].quantile(0.75)\n",
    "iq1"
   ]
  },
  {
   "cell_type": "code",
   "execution_count": 16,
   "id": "51368273",
   "metadata": {
    "execution": {
     "iopub.execute_input": "2023-02-12T12:02:37.791675Z",
     "iopub.status.busy": "2023-02-12T12:02:37.791209Z",
     "iopub.status.idle": "2023-02-12T12:02:37.797428Z",
     "shell.execute_reply": "2023-02-12T12:02:37.796497Z"
    },
    "id": "3jcXVgOqlU7h",
    "outputId": "9bfb22c2-4dbe-4cbf-f646-b103f42a1735",
    "papermill": {
     "duration": 0.031201,
     "end_time": "2023-02-12T12:02:37.799566",
     "exception": false,
     "start_time": "2023-02-12T12:02:37.768365",
     "status": "completed"
    },
    "tags": []
   },
   "outputs": [
    {
     "data": {
      "text/plain": [
       "3500.0"
      ]
     },
     "execution_count": 16,
     "metadata": {},
     "output_type": "execute_result"
    }
   ],
   "source": [
    "iq2"
   ]
  },
  {
   "cell_type": "code",
   "execution_count": 17,
   "id": "987dc375",
   "metadata": {
    "execution": {
     "iopub.execute_input": "2023-02-12T12:02:37.844782Z",
     "iopub.status.busy": "2023-02-12T12:02:37.843948Z",
     "iopub.status.idle": "2023-02-12T12:02:37.851952Z",
     "shell.execute_reply": "2023-02-12T12:02:37.850811Z"
    },
    "id": "f50PMganmrZx",
    "papermill": {
     "duration": 0.033787,
     "end_time": "2023-02-12T12:02:37.854449",
     "exception": false,
     "start_time": "2023-02-12T12:02:37.820662",
     "status": "completed"
    },
    "tags": []
   },
   "outputs": [],
   "source": [
    "df['CROP_PRICE']=np.where(df['CROP_PRICE']<iq1,iq1,df['CROP_PRICE'])\n",
    "df['CROP_PRICE']=np.where(df['CROP_PRICE']>iq2,iq2,df['CROP_PRICE'])"
   ]
  },
  {
   "cell_type": "code",
   "execution_count": 18,
   "id": "b523e073",
   "metadata": {
    "execution": {
     "iopub.execute_input": "2023-02-12T12:02:37.898632Z",
     "iopub.status.busy": "2023-02-12T12:02:37.898205Z",
     "iopub.status.idle": "2023-02-12T12:02:37.909517Z",
     "shell.execute_reply": "2023-02-12T12:02:37.908423Z"
    },
    "id": "li-Y1DSuhTDS",
    "outputId": "c2d99bf5-4541-445e-a43c-039913ba0603",
    "papermill": {
     "duration": 0.03621,
     "end_time": "2023-02-12T12:02:37.911753",
     "exception": false,
     "start_time": "2023-02-12T12:02:37.875543",
     "status": "completed"
    },
    "tags": []
   },
   "outputs": [
    {
     "name": "stderr",
     "output_type": "stream",
     "text": [
      "/opt/conda/lib/python3.7/site-packages/ipykernel_launcher.py:1: FutureWarning: Dropping of nuisance columns in DataFrame reductions (with 'numeric_only=None') is deprecated; in a future version this will raise TypeError.  Select only valid columns before calling the reduction.\n",
      "  \"\"\"Entry point for launching an IPython kernel.\n"
     ]
    },
    {
     "data": {
      "text/plain": [
       "N_SOIL         0.509721\n",
       "P_SOIL        -0.782108\n",
       "K_SOIL         0.804010\n",
       "TEMPERATURE    0.184933\n",
       "HUMIDITY      -1.900877\n",
       "ph             0.283929\n",
       "RAINFALL       0.965756\n",
       "CROP_PRICE     0.283069\n",
       "dtype: float64"
      ]
     },
     "execution_count": 18,
     "metadata": {},
     "output_type": "execute_result"
    }
   ],
   "source": [
    "df.skew()"
   ]
  },
  {
   "cell_type": "markdown",
   "id": "b63d8542",
   "metadata": {
    "papermill": {
     "duration": 0.021503,
     "end_time": "2023-02-12T12:02:37.954808",
     "exception": false,
     "start_time": "2023-02-12T12:02:37.933305",
     "status": "completed"
    },
    "tags": []
   },
   "source": [
    "# **ENCODING CATEGORICAL INTO NUMERICAL**"
   ]
  },
  {
   "cell_type": "code",
   "execution_count": 19,
   "id": "64ad842d",
   "metadata": {
    "execution": {
     "iopub.execute_input": "2023-02-12T12:02:38.000611Z",
     "iopub.status.busy": "2023-02-12T12:02:37.999795Z",
     "iopub.status.idle": "2023-02-12T12:02:38.127042Z",
     "shell.execute_reply": "2023-02-12T12:02:38.125826Z"
    },
    "id": "jtdesAoT28zi",
    "papermill": {
     "duration": 0.153413,
     "end_time": "2023-02-12T12:02:38.129698",
     "exception": false,
     "start_time": "2023-02-12T12:02:37.976285",
     "status": "completed"
    },
    "tags": []
   },
   "outputs": [],
   "source": [
    "from sklearn.preprocessing import LabelEncoder\n",
    "le=LabelEncoder()\n",
    "df['CROP']=le.fit_transform(df['CROP'])\n"
   ]
  },
  {
   "cell_type": "markdown",
   "id": "59b20dc9",
   "metadata": {
    "papermill": {
     "duration": 0.021787,
     "end_time": "2023-02-12T12:02:38.173823",
     "exception": false,
     "start_time": "2023-02-12T12:02:38.152036",
     "status": "completed"
    },
    "tags": []
   },
   "source": [
    "# **SPLITING OF FEATURES**"
   ]
  },
  {
   "cell_type": "code",
   "execution_count": 20,
   "id": "bfb39cd5",
   "metadata": {
    "execution": {
     "iopub.execute_input": "2023-02-12T12:02:38.218714Z",
     "iopub.status.busy": "2023-02-12T12:02:38.218302Z",
     "iopub.status.idle": "2023-02-12T12:02:38.237030Z",
     "shell.execute_reply": "2023-02-12T12:02:38.235983Z"
    },
    "id": "dqOUD6ochs_l",
    "outputId": "ca861bef-8636-43a4-94bc-dd14e5ac3711",
    "papermill": {
     "duration": 0.04394,
     "end_time": "2023-02-12T12:02:38.239395",
     "exception": false,
     "start_time": "2023-02-12T12:02:38.195455",
     "status": "completed"
    },
    "tags": []
   },
   "outputs": [
    {
     "data": {
      "text/html": [
       "<div>\n",
       "<style scoped>\n",
       "    .dataframe tbody tr th:only-of-type {\n",
       "        vertical-align: middle;\n",
       "    }\n",
       "\n",
       "    .dataframe tbody tr th {\n",
       "        vertical-align: top;\n",
       "    }\n",
       "\n",
       "    .dataframe thead th {\n",
       "        text-align: right;\n",
       "    }\n",
       "</style>\n",
       "<table border=\"1\" class=\"dataframe\">\n",
       "  <thead>\n",
       "    <tr style=\"text-align: right;\">\n",
       "      <th></th>\n",
       "      <th>N_SOIL</th>\n",
       "      <th>P_SOIL</th>\n",
       "      <th>K_SOIL</th>\n",
       "      <th>TEMPERATURE</th>\n",
       "      <th>HUMIDITY</th>\n",
       "      <th>ph</th>\n",
       "      <th>RAINFALL</th>\n",
       "      <th>CROP_PRICE</th>\n",
       "    </tr>\n",
       "  </thead>\n",
       "  <tbody>\n",
       "    <tr>\n",
       "      <th>0</th>\n",
       "      <td>90</td>\n",
       "      <td>3.737670</td>\n",
       "      <td>3.761200</td>\n",
       "      <td>20.879744</td>\n",
       "      <td>4.406753</td>\n",
       "      <td>6.502985</td>\n",
       "      <td>202.935536</td>\n",
       "      <td>3500.0</td>\n",
       "    </tr>\n",
       "    <tr>\n",
       "      <th>1</th>\n",
       "      <td>85</td>\n",
       "      <td>4.060443</td>\n",
       "      <td>3.713572</td>\n",
       "      <td>21.770462</td>\n",
       "      <td>4.386014</td>\n",
       "      <td>7.038096</td>\n",
       "      <td>226.655537</td>\n",
       "      <td>3500.0</td>\n",
       "    </tr>\n",
       "    <tr>\n",
       "      <th>2</th>\n",
       "      <td>60</td>\n",
       "      <td>4.007333</td>\n",
       "      <td>3.784190</td>\n",
       "      <td>23.004459</td>\n",
       "      <td>4.410623</td>\n",
       "      <td>7.840207</td>\n",
       "      <td>263.964248</td>\n",
       "      <td>3500.0</td>\n",
       "    </tr>\n",
       "    <tr>\n",
       "      <th>3</th>\n",
       "      <td>74</td>\n",
       "      <td>3.555348</td>\n",
       "      <td>3.688879</td>\n",
       "      <td>26.491096</td>\n",
       "      <td>4.384004</td>\n",
       "      <td>6.980401</td>\n",
       "      <td>242.864034</td>\n",
       "      <td>3500.0</td>\n",
       "    </tr>\n",
       "    <tr>\n",
       "      <th>4</th>\n",
       "      <td>78</td>\n",
       "      <td>3.737670</td>\n",
       "      <td>3.737670</td>\n",
       "      <td>20.130175</td>\n",
       "      <td>4.401889</td>\n",
       "      <td>7.628473</td>\n",
       "      <td>262.717340</td>\n",
       "      <td>3500.0</td>\n",
       "    </tr>\n",
       "  </tbody>\n",
       "</table>\n",
       "</div>"
      ],
      "text/plain": [
       "   N_SOIL    P_SOIL    K_SOIL  TEMPERATURE  HUMIDITY        ph    RAINFALL  \\\n",
       "0      90  3.737670  3.761200    20.879744  4.406753  6.502985  202.935536   \n",
       "1      85  4.060443  3.713572    21.770462  4.386014  7.038096  226.655537   \n",
       "2      60  4.007333  3.784190    23.004459  4.410623  7.840207  263.964248   \n",
       "3      74  3.555348  3.688879    26.491096  4.384004  6.980401  242.864034   \n",
       "4      78  3.737670  3.737670    20.130175  4.401889  7.628473  262.717340   \n",
       "\n",
       "   CROP_PRICE  \n",
       "0      3500.0  \n",
       "1      3500.0  \n",
       "2      3500.0  \n",
       "3      3500.0  \n",
       "4      3500.0  "
      ]
     },
     "execution_count": 20,
     "metadata": {},
     "output_type": "execute_result"
    }
   ],
   "source": [
    "x=df.iloc[:,0:8]\n",
    "y=df.iloc[:,8]\n",
    "x.head()"
   ]
  },
  {
   "cell_type": "code",
   "execution_count": 21,
   "id": "b422fe92",
   "metadata": {
    "execution": {
     "iopub.execute_input": "2023-02-12T12:02:38.284113Z",
     "iopub.status.busy": "2023-02-12T12:02:38.283697Z",
     "iopub.status.idle": "2023-02-12T12:02:38.291190Z",
     "shell.execute_reply": "2023-02-12T12:02:38.290105Z"
    },
    "id": "kV15PkVYqrzq",
    "outputId": "ca0728d4-4491-4a42-ff4e-e4fd6313477b",
    "papermill": {
     "duration": 0.032499,
     "end_time": "2023-02-12T12:02:38.293465",
     "exception": false,
     "start_time": "2023-02-12T12:02:38.260966",
     "status": "completed"
    },
    "tags": []
   },
   "outputs": [
    {
     "data": {
      "text/plain": [
       "array([20, 11,  3,  9, 18, 13, 14,  2, 10, 19,  1, 12,  7, 21, 15,  0, 16,\n",
       "       17,  4,  6,  8,  5])"
      ]
     },
     "execution_count": 21,
     "metadata": {},
     "output_type": "execute_result"
    }
   ],
   "source": [
    "y.unique()"
   ]
  },
  {
   "cell_type": "markdown",
   "id": "c2334d90",
   "metadata": {
    "id": "DNeOjUiIrjHG",
    "papermill": {
     "duration": 0.021248,
     "end_time": "2023-02-12T12:02:38.336649",
     "exception": false,
     "start_time": "2023-02-12T12:02:38.315401",
     "status": "completed"
    },
    "tags": []
   },
   "source": [
    "###Training a model"
   ]
  },
  {
   "cell_type": "markdown",
   "id": "02f756d5",
   "metadata": {
    "papermill": {
     "duration": 0.021455,
     "end_time": "2023-02-12T12:02:38.380101",
     "exception": false,
     "start_time": "2023-02-12T12:02:38.358646",
     "status": "completed"
    },
    "tags": []
   },
   "source": [
    "**TRAIN-TEST-SPLIT**"
   ]
  },
  {
   "cell_type": "code",
   "execution_count": 22,
   "id": "ec41765d",
   "metadata": {
    "execution": {
     "iopub.execute_input": "2023-02-12T12:02:38.425103Z",
     "iopub.status.busy": "2023-02-12T12:02:38.424395Z",
     "iopub.status.idle": "2023-02-12T12:02:38.479728Z",
     "shell.execute_reply": "2023-02-12T12:02:38.478572Z"
    },
    "id": "5JB222eQrd_y",
    "papermill": {
     "duration": 0.081048,
     "end_time": "2023-02-12T12:02:38.482625",
     "exception": false,
     "start_time": "2023-02-12T12:02:38.401577",
     "status": "completed"
    },
    "tags": []
   },
   "outputs": [],
   "source": [
    "from sklearn.model_selection import train_test_split\n",
    "x_train,x_test,y_train,y_test=train_test_split(x,y,train_size=0.7,random_state=1)"
   ]
  },
  {
   "cell_type": "code",
   "execution_count": 23,
   "id": "0fd2189b",
   "metadata": {
    "execution": {
     "iopub.execute_input": "2023-02-12T12:02:38.527688Z",
     "iopub.status.busy": "2023-02-12T12:02:38.527276Z",
     "iopub.status.idle": "2023-02-12T12:02:38.532415Z",
     "shell.execute_reply": "2023-02-12T12:02:38.531557Z"
    },
    "id": "d0JOJgBYrlp6",
    "outputId": "aa15000d-9205-46c7-fbe6-abf28f6553a0",
    "papermill": {
     "duration": 0.030785,
     "end_time": "2023-02-12T12:02:38.535164",
     "exception": false,
     "start_time": "2023-02-12T12:02:38.504379",
     "status": "completed"
    },
    "tags": []
   },
   "outputs": [
    {
     "name": "stdout",
     "output_type": "stream",
     "text": [
      "Training data (1540, 8)\n"
     ]
    }
   ],
   "source": [
    "print(\"Training data\",x_train.shape)"
   ]
  },
  {
   "cell_type": "code",
   "execution_count": 24,
   "id": "369ad229",
   "metadata": {
    "execution": {
     "iopub.execute_input": "2023-02-12T12:02:38.580605Z",
     "iopub.status.busy": "2023-02-12T12:02:38.580219Z",
     "iopub.status.idle": "2023-02-12T12:02:38.585852Z",
     "shell.execute_reply": "2023-02-12T12:02:38.584761Z"
    },
    "id": "Xv9vd_XvroUy",
    "outputId": "a99edecd-e1bb-41ef-d240-375baea9152a",
    "papermill": {
     "duration": 0.031428,
     "end_time": "2023-02-12T12:02:38.588436",
     "exception": false,
     "start_time": "2023-02-12T12:02:38.557008",
     "status": "completed"
    },
    "tags": []
   },
   "outputs": [
    {
     "name": "stdout",
     "output_type": "stream",
     "text": [
      "Training data (660, 8)\n"
     ]
    }
   ],
   "source": [
    "print(\"Training data\",x_test.shape)"
   ]
  },
  {
   "cell_type": "markdown",
   "id": "43cb43fa",
   "metadata": {
    "papermill": {
     "duration": 0.022349,
     "end_time": "2023-02-12T12:02:38.632324",
     "exception": false,
     "start_time": "2023-02-12T12:02:38.609975",
     "status": "completed"
    },
    "tags": []
   },
   "source": [
    "# **IMPORTING ALGORITHM**\n",
    "\n",
    "**NAIVE BAYES**"
   ]
  },
  {
   "cell_type": "code",
   "execution_count": 25,
   "id": "cda0aec8",
   "metadata": {
    "execution": {
     "iopub.execute_input": "2023-02-12T12:02:38.679815Z",
     "iopub.status.busy": "2023-02-12T12:02:38.678627Z",
     "iopub.status.idle": "2023-02-12T12:02:38.686455Z",
     "shell.execute_reply": "2023-02-12T12:02:38.685529Z"
    },
    "id": "TPEuPsoji7W4",
    "papermill": {
     "duration": 0.03445,
     "end_time": "2023-02-12T12:02:38.688962",
     "exception": false,
     "start_time": "2023-02-12T12:02:38.654512",
     "status": "completed"
    },
    "tags": []
   },
   "outputs": [],
   "source": [
    "from sklearn.naive_bayes import GaussianNB\n",
    "model = GaussianNB()"
   ]
  },
  {
   "cell_type": "code",
   "execution_count": 26,
   "id": "2c6b9dd5",
   "metadata": {
    "execution": {
     "iopub.execute_input": "2023-02-12T12:02:38.734685Z",
     "iopub.status.busy": "2023-02-12T12:02:38.733980Z",
     "iopub.status.idle": "2023-02-12T12:02:38.749695Z",
     "shell.execute_reply": "2023-02-12T12:02:38.748527Z"
    },
    "id": "u1q6OLbUi66g",
    "outputId": "c230e39b-a9f7-4fb5-9c58-467f8e1cf977",
    "papermill": {
     "duration": 0.0414,
     "end_time": "2023-02-12T12:02:38.752059",
     "exception": false,
     "start_time": "2023-02-12T12:02:38.710659",
     "status": "completed"
    },
    "tags": []
   },
   "outputs": [
    {
     "data": {
      "text/plain": [
       "GaussianNB()"
      ]
     },
     "execution_count": 26,
     "metadata": {},
     "output_type": "execute_result"
    }
   ],
   "source": [
    "model.fit(x_train,y_train)"
   ]
  },
  {
   "cell_type": "markdown",
   "id": "52099dfa",
   "metadata": {
    "papermill": {
     "duration": 0.02177,
     "end_time": "2023-02-12T12:02:38.796265",
     "exception": false,
     "start_time": "2023-02-12T12:02:38.774495",
     "status": "completed"
    },
    "tags": []
   },
   "source": [
    "**PREDICTION OF CROP**"
   ]
  },
  {
   "cell_type": "code",
   "execution_count": 27,
   "id": "08db98d0",
   "metadata": {
    "execution": {
     "iopub.execute_input": "2023-02-12T12:02:38.842369Z",
     "iopub.status.busy": "2023-02-12T12:02:38.841718Z",
     "iopub.status.idle": "2023-02-12T12:02:38.849726Z",
     "shell.execute_reply": "2023-02-12T12:02:38.848491Z"
    },
    "id": "Bsfy7iiWjPqZ",
    "papermill": {
     "duration": 0.034393,
     "end_time": "2023-02-12T12:02:38.852568",
     "exception": false,
     "start_time": "2023-02-12T12:02:38.818175",
     "status": "completed"
    },
    "tags": []
   },
   "outputs": [],
   "source": [
    "y_prediction=model.predict(x_test)"
   ]
  },
  {
   "cell_type": "markdown",
   "id": "ef0fb372",
   "metadata": {
    "papermill": {
     "duration": 0.024837,
     "end_time": "2023-02-12T12:02:38.902752",
     "exception": false,
     "start_time": "2023-02-12T12:02:38.877915",
     "status": "completed"
    },
    "tags": []
   },
   "source": [
    "# **MODEL METRICS**"
   ]
  },
  {
   "cell_type": "code",
   "execution_count": 28,
   "id": "1d066786",
   "metadata": {
    "execution": {
     "iopub.execute_input": "2023-02-12T12:02:38.953144Z",
     "iopub.status.busy": "2023-02-12T12:02:38.952685Z",
     "iopub.status.idle": "2023-02-12T12:02:38.960666Z",
     "shell.execute_reply": "2023-02-12T12:02:38.959792Z"
    },
    "id": "ucb9FSY5jUzQ",
    "outputId": "a9a2bfd6-e44c-49b8-cc69-fe8ae66de683",
    "papermill": {
     "duration": 0.034782,
     "end_time": "2023-02-12T12:02:38.962852",
     "exception": false,
     "start_time": "2023-02-12T12:02:38.928070",
     "status": "completed"
    },
    "tags": []
   },
   "outputs": [
    {
     "data": {
      "text/plain": [
       "0.9954545454545455"
      ]
     },
     "execution_count": 28,
     "metadata": {},
     "output_type": "execute_result"
    }
   ],
   "source": [
    "from sklearn.metrics import accuracy_score\n",
    "accuracy_score(y_test,y_prediction)"
   ]
  },
  {
   "cell_type": "markdown",
   "id": "5b7028b3",
   "metadata": {
    "papermill": {
     "duration": 0.022567,
     "end_time": "2023-02-12T12:02:39.008463",
     "exception": false,
     "start_time": "2023-02-12T12:02:38.985896",
     "status": "completed"
    },
    "tags": []
   },
   "source": [
    "# **SAVING THE MODEL**"
   ]
  },
  {
   "cell_type": "code",
   "execution_count": 29,
   "id": "281b9ddd",
   "metadata": {
    "execution": {
     "iopub.execute_input": "2023-02-12T12:02:39.063589Z",
     "iopub.status.busy": "2023-02-12T12:02:39.063011Z",
     "iopub.status.idle": "2023-02-12T12:02:39.067799Z",
     "shell.execute_reply": "2023-02-12T12:02:39.066909Z"
    },
    "id": "e3fvdWo0hMhO",
    "papermill": {
     "duration": 0.037299,
     "end_time": "2023-02-12T12:02:39.071309",
     "exception": false,
     "start_time": "2023-02-12T12:02:39.034010",
     "status": "completed"
    },
    "tags": []
   },
   "outputs": [],
   "source": [
    "import pickle"
   ]
  },
  {
   "cell_type": "code",
   "execution_count": 30,
   "id": "cc343ea1",
   "metadata": {
    "execution": {
     "iopub.execute_input": "2023-02-12T12:02:39.125964Z",
     "iopub.status.busy": "2023-02-12T12:02:39.125556Z",
     "iopub.status.idle": "2023-02-12T12:02:39.131232Z",
     "shell.execute_reply": "2023-02-12T12:02:39.130170Z"
    },
    "id": "k_X6iXEGjSGt",
    "papermill": {
     "duration": 0.033531,
     "end_time": "2023-02-12T12:02:39.133498",
     "exception": false,
     "start_time": "2023-02-12T12:02:39.099967",
     "status": "completed"
    },
    "tags": []
   },
   "outputs": [],
   "source": [
    "filename='trained_model.sav'\n",
    "pickle.dump(model,open(filename,'wb'))"
   ]
  },
  {
   "cell_type": "code",
   "execution_count": 31,
   "id": "44121cd6",
   "metadata": {
    "execution": {
     "iopub.execute_input": "2023-02-12T12:02:39.179984Z",
     "iopub.status.busy": "2023-02-12T12:02:39.179575Z",
     "iopub.status.idle": "2023-02-12T12:02:39.185230Z",
     "shell.execute_reply": "2023-02-12T12:02:39.184088Z"
    },
    "id": "L_ih5sMMjU4E",
    "papermill": {
     "duration": 0.031874,
     "end_time": "2023-02-12T12:02:39.187673",
     "exception": false,
     "start_time": "2023-02-12T12:02:39.155799",
     "status": "completed"
    },
    "tags": []
   },
   "outputs": [],
   "source": [
    "loaded_model=pickle.load(open('trained_model.sav','rb'))"
   ]
  },
  {
   "cell_type": "code",
   "execution_count": 32,
   "id": "c45125bd",
   "metadata": {
    "execution": {
     "iopub.execute_input": "2023-02-12T12:02:39.234353Z",
     "iopub.status.busy": "2023-02-12T12:02:39.233252Z",
     "iopub.status.idle": "2023-02-12T12:02:39.244440Z",
     "shell.execute_reply": "2023-02-12T12:02:39.242913Z"
    },
    "id": "CSCmsMPNji2a",
    "outputId": "df0dc7fa-07ce-4556-fcb3-b143a178a85f",
    "papermill": {
     "duration": 0.037557,
     "end_time": "2023-02-12T12:02:39.247346",
     "exception": false,
     "start_time": "2023-02-12T12:02:39.209789",
     "status": "completed"
    },
    "tags": []
   },
   "outputs": [
    {
     "name": "stdout",
     "output_type": "stream",
     "text": [
      "[3]\n"
     ]
    },
    {
     "name": "stderr",
     "output_type": "stream",
     "text": [
      "/opt/conda/lib/python3.7/site-packages/sklearn/base.py:451: UserWarning: X does not have valid feature names, but GaussianNB was fitted with feature names\n",
      "  \"X does not have valid feature names, but\"\n"
     ]
    }
   ],
   "source": [
    "input_data=(49,4.234107,4.406719,18.315615,2.731860,7.263119,81.787105,3500.0)\n",
    "input_array=np.asarray(input_data)\n",
    "data_reshape=input_array.reshape(1,-1)\n",
    "prediction=model.predict(data_reshape)\n",
    "print(prediction)\n"
   ]
  },
  {
   "cell_type": "code",
   "execution_count": null,
   "id": "9b3e9a34",
   "metadata": {
    "id": "c7iAWHP3d95E",
    "papermill": {
     "duration": 0.021989,
     "end_time": "2023-02-12T12:02:39.291637",
     "exception": false,
     "start_time": "2023-02-12T12:02:39.269648",
     "status": "completed"
    },
    "tags": []
   },
   "outputs": [],
   "source": []
  }
 ],
 "metadata": {
  "kernelspec": {
   "display_name": "Python 3 (ipykernel)",
   "language": "python",
   "name": "python3"
  },
  "language_info": {
   "codemirror_mode": {
    "name": "ipython",
    "version": 3
   },
   "file_extension": ".py",
   "mimetype": "text/x-python",
   "name": "python",
   "nbconvert_exporter": "python",
   "pygments_lexer": "ipython3",
   "version": "3.9.7"
  },
  "papermill": {
   "default_parameters": {},
   "duration": 13.004849,
   "end_time": "2023-02-12T12:02:40.035618",
   "environment_variables": {},
   "exception": null,
   "input_path": "__notebook__.ipynb",
   "output_path": "__notebook__.ipynb",
   "parameters": {},
   "start_time": "2023-02-12T12:02:27.030769",
   "version": "2.3.4"
  }
 },
 "nbformat": 4,
 "nbformat_minor": 5
}
