{
 "cells": [
  {
   "cell_type": "code",
   "execution_count": null,
   "id": "d8d7ad29",
   "metadata": {},
   "outputs": [],
   "source": [
    "!pip install fbprophet"
   ]
  },
  {
   "cell_type": "code",
   "execution_count": null,
   "id": "670e3063",
   "metadata": {},
   "outputs": [],
   "source": [
    "import pandas as pd\n",
    "import fbprophet as Prophet"
   ]
  },
  {
   "cell_type": "code",
   "execution_count": null,
   "id": "3c8087a3",
   "metadata": {},
   "outputs": [],
   "source": [
    "date_rng = pd.date_range(start='2022-01-01', end='2023-12-31', freq='D')\n",
    "\n",
    "# Generate values with trend, yearly seasonality, and random noise\n",
    "values = 50 + np.arange(len(date_rng)) + 10 * np.sin(2 * np.pi * date_rng.dayofyear / 365) + np.random.normal(0, 5, len(date_rng))\n",
    "\n",
    "# Create a DataFrame\n",
    "df = pd.DataFrame({'ds': date_rng, 'y': values})"
   ]
  },
  {
   "cell_type": "code",
   "execution_count": null,
   "id": "324cbd6c",
   "metadata": {},
   "outputs": [],
   "source": [
    "model = Prophet()\n",
    "model.fit(df)\n",
    "future = model.make_future_dataframe(periods=365)\n",
    "forecast = model.predict(future)\n",
    "print(forecast)\n"
   ]
  },
  {
   "cell_type": "code",
   "execution_count": null,
   "id": "c7c546b5",
   "metadata": {},
   "outputs": [],
   "source": [
    "def forecasted_prediction(df, gr):\n",
    "    model = Prophet()\n",
    "    model.fit(df)\n",
    "    future = model.make_future_dataframe(periods=365)\n",
    "    forecast = model.predict(future)\n",
    "    print(forecast)"
   ]
  }
 ],
 "metadata": {
  "kernelspec": {
   "display_name": "Python 3 (ipykernel)",
   "language": "python",
   "name": "python3"
  },
  "language_info": {
   "codemirror_mode": {
    "name": "ipython",
    "version": 3
   },
   "file_extension": ".py",
   "mimetype": "text/x-python",
   "name": "python",
   "nbconvert_exporter": "python",
   "pygments_lexer": "ipython3",
   "version": "3.9.7"
  }
 },
 "nbformat": 4,
 "nbformat_minor": 5
}
