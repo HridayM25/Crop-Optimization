{
 "cells": [
  {
   "cell_type": "code",
   "execution_count": 177,
   "id": "b7696ac6",
   "metadata": {
    "execution": {
     "iopub.execute_input": "2023-02-12T12:02:35.519825Z",
     "iopub.status.busy": "2023-02-12T12:02:35.518738Z",
     "iopub.status.idle": "2023-02-12T12:02:36.495116Z",
     "shell.execute_reply": "2023-02-12T12:02:36.493795Z"
    },
    "id": "mZVHMkPEbTTJ",
    "papermill": {
     "duration": 0.999686,
     "end_time": "2023-02-12T12:02:36.498344",
     "exception": false,
     "start_time": "2023-02-12T12:02:35.498658",
     "status": "completed"
    },
    "tags": []
   },
   "outputs": [],
   "source": [
    "import numpy as np\n",
    "import pandas as pd\n",
    "import matplotlib.pyplot as plt\n",
    "import seaborn as sns"
   ]
  },
  {
   "cell_type": "code",
   "execution_count": 178,
   "id": "650ab70c",
   "metadata": {
    "execution": {
     "iopub.execute_input": "2023-02-12T12:02:36.607952Z",
     "iopub.status.busy": "2023-02-12T12:02:36.607153Z",
     "iopub.status.idle": "2023-02-12T12:02:36.648525Z",
     "shell.execute_reply": "2023-02-12T12:02:36.647331Z"
    },
    "id": "IRLLQswzbgHs",
    "outputId": "f63bfcba-941a-403c-e72f-4d79001f2c26",
    "papermill": {
     "duration": 0.063866,
     "end_time": "2023-02-12T12:02:36.651314",
     "exception": false,
     "start_time": "2023-02-12T12:02:36.587448",
     "status": "completed"
    },
    "tags": []
   },
   "outputs": [
    {
     "data": {
      "text/html": [
       "<div>\n",
       "<style scoped>\n",
       "    .dataframe tbody tr th:only-of-type {\n",
       "        vertical-align: middle;\n",
       "    }\n",
       "\n",
       "    .dataframe tbody tr th {\n",
       "        vertical-align: top;\n",
       "    }\n",
       "\n",
       "    .dataframe thead th {\n",
       "        text-align: right;\n",
       "    }\n",
       "</style>\n",
       "<table border=\"1\" class=\"dataframe\">\n",
       "  <thead>\n",
       "    <tr style=\"text-align: right;\">\n",
       "      <th></th>\n",
       "      <th>N_SOIL</th>\n",
       "      <th>P_SOIL</th>\n",
       "      <th>K_SOIL</th>\n",
       "      <th>TEMPERATURE</th>\n",
       "      <th>HUMIDITY</th>\n",
       "      <th>ph</th>\n",
       "      <th>RAINFALL</th>\n",
       "      <th>STATE</th>\n",
       "      <th>CROP_PRICE</th>\n",
       "      <th>CROP</th>\n",
       "    </tr>\n",
       "  </thead>\n",
       "  <tbody>\n",
       "    <tr>\n",
       "      <th>0</th>\n",
       "      <td>90</td>\n",
       "      <td>42</td>\n",
       "      <td>43</td>\n",
       "      <td>20.879744</td>\n",
       "      <td>82.002744</td>\n",
       "      <td>6.502985</td>\n",
       "      <td>202.935536</td>\n",
       "      <td>Andaman and Nicobar</td>\n",
       "      <td>7000</td>\n",
       "      <td>Rice</td>\n",
       "    </tr>\n",
       "    <tr>\n",
       "      <th>1</th>\n",
       "      <td>85</td>\n",
       "      <td>58</td>\n",
       "      <td>41</td>\n",
       "      <td>21.770462</td>\n",
       "      <td>80.319644</td>\n",
       "      <td>7.038096</td>\n",
       "      <td>226.655537</td>\n",
       "      <td>Andaman and Nicobar</td>\n",
       "      <td>5000</td>\n",
       "      <td>Rice</td>\n",
       "    </tr>\n",
       "    <tr>\n",
       "      <th>2</th>\n",
       "      <td>60</td>\n",
       "      <td>55</td>\n",
       "      <td>44</td>\n",
       "      <td>23.004459</td>\n",
       "      <td>82.320763</td>\n",
       "      <td>7.840207</td>\n",
       "      <td>263.964248</td>\n",
       "      <td>Andaman and Nicobar</td>\n",
       "      <td>7000</td>\n",
       "      <td>Rice</td>\n",
       "    </tr>\n",
       "    <tr>\n",
       "      <th>3</th>\n",
       "      <td>74</td>\n",
       "      <td>35</td>\n",
       "      <td>40</td>\n",
       "      <td>26.491096</td>\n",
       "      <td>80.158363</td>\n",
       "      <td>6.980401</td>\n",
       "      <td>242.864034</td>\n",
       "      <td>Andaman and Nicobar</td>\n",
       "      <td>7000</td>\n",
       "      <td>Rice</td>\n",
       "    </tr>\n",
       "    <tr>\n",
       "      <th>4</th>\n",
       "      <td>78</td>\n",
       "      <td>42</td>\n",
       "      <td>42</td>\n",
       "      <td>20.130175</td>\n",
       "      <td>81.604873</td>\n",
       "      <td>7.628473</td>\n",
       "      <td>262.717340</td>\n",
       "      <td>Andaman and Nicobar</td>\n",
       "      <td>120000</td>\n",
       "      <td>Rice</td>\n",
       "    </tr>\n",
       "  </tbody>\n",
       "</table>\n",
       "</div>"
      ],
      "text/plain": [
       "   N_SOIL  P_SOIL  K_SOIL  TEMPERATURE   HUMIDITY        ph    RAINFALL  \\\n",
       "0      90      42      43    20.879744  82.002744  6.502985  202.935536   \n",
       "1      85      58      41    21.770462  80.319644  7.038096  226.655537   \n",
       "2      60      55      44    23.004459  82.320763  7.840207  263.964248   \n",
       "3      74      35      40    26.491096  80.158363  6.980401  242.864034   \n",
       "4      78      42      42    20.130175  81.604873  7.628473  262.717340   \n",
       "\n",
       "                 STATE  CROP_PRICE  CROP  \n",
       "0  Andaman and Nicobar        7000  Rice  \n",
       "1  Andaman and Nicobar        5000  Rice  \n",
       "2  Andaman and Nicobar        7000  Rice  \n",
       "3  Andaman and Nicobar        7000  Rice  \n",
       "4  Andaman and Nicobar      120000  Rice  "
      ]
     },
     "execution_count": 178,
     "metadata": {},
     "output_type": "execute_result"
    }
   ],
   "source": [
    "df=pd.read_csv('indiancrop_dataset.csv')\n",
    "df.head()"
   ]
  },
  {
   "cell_type": "code",
   "execution_count": 179,
   "id": "b284a09f",
   "metadata": {
    "execution": {
     "iopub.execute_input": "2023-02-12T12:02:36.691088Z",
     "iopub.status.busy": "2023-02-12T12:02:36.690315Z",
     "iopub.status.idle": "2023-02-12T12:02:36.716066Z",
     "shell.execute_reply": "2023-02-12T12:02:36.714450Z"
    },
    "id": "O0_PAPWxb_0i",
    "outputId": "65e217b5-66df-406b-d611-cae86ac8818e",
    "papermill": {
     "duration": 0.048429,
     "end_time": "2023-02-12T12:02:36.718976",
     "exception": false,
     "start_time": "2023-02-12T12:02:36.670547",
     "status": "completed"
    },
    "tags": []
   },
   "outputs": [
    {
     "name": "stdout",
     "output_type": "stream",
     "text": [
      "<class 'pandas.core.frame.DataFrame'>\n",
      "RangeIndex: 2200 entries, 0 to 2199\n",
      "Data columns (total 10 columns):\n",
      " #   Column       Non-Null Count  Dtype  \n",
      "---  ------       --------------  -----  \n",
      " 0   N_SOIL       2200 non-null   int64  \n",
      " 1   P_SOIL       2200 non-null   int64  \n",
      " 2   K_SOIL       2200 non-null   int64  \n",
      " 3   TEMPERATURE  2200 non-null   float64\n",
      " 4   HUMIDITY     2200 non-null   float64\n",
      " 5   ph           2200 non-null   float64\n",
      " 6   RAINFALL     2200 non-null   float64\n",
      " 7   STATE        2200 non-null   object \n",
      " 8   CROP_PRICE   2200 non-null   int64  \n",
      " 9   CROP         2200 non-null   object \n",
      "dtypes: float64(4), int64(4), object(2)\n",
      "memory usage: 172.0+ KB\n"
     ]
    }
   ],
   "source": [
    "df.info()"
   ]
  },
  {
   "cell_type": "code",
   "execution_count": 180,
   "id": "592e1985",
   "metadata": {},
   "outputs": [
    {
     "data": {
      "text/plain": [
       "Uttar Pradesh          574\n",
       "Kerala                 274\n",
       "Tamil Nadu             183\n",
       "Punjab                 180\n",
       "Maharashtra            162\n",
       "West Bengal            124\n",
       "Gujarat                113\n",
       "Himachal Pradesh       102\n",
       "Odisha                  86\n",
       "Haryana                 65\n",
       "Assam                   58\n",
       "Manipur                 52\n",
       "Madhya Pradesh          44\n",
       "Rajasthan               41\n",
       "Karnataka               36\n",
       "Uttrakhand              21\n",
       "Tripura                 18\n",
       "Telangana               15\n",
       "Andaman and Nicobar     15\n",
       "Andhra Pradesh           7\n",
       "Pondicherry              7\n",
       "Meghalaya                6\n",
       "Nagaland                 6\n",
       "Chattisgarh              5\n",
       "Jammu and Kashmir        3\n",
       "Goa                      3\n",
       "Name: STATE, dtype: int64"
      ]
     },
     "execution_count": 180,
     "metadata": {},
     "output_type": "execute_result"
    }
   ],
   "source": [
    "df[\"STATE\"].value_counts()"
   ]
  },
  {
   "cell_type": "code",
   "execution_count": 181,
   "id": "91f572ed",
   "metadata": {
    "execution": {
     "iopub.execute_input": "2023-02-12T12:02:37.368267Z",
     "iopub.status.busy": "2023-02-12T12:02:37.367866Z",
     "iopub.status.idle": "2023-02-12T12:02:37.374562Z",
     "shell.execute_reply": "2023-02-12T12:02:37.373641Z"
    },
    "id": "UZawTrvfcU0W",
    "papermill": {
     "duration": 0.029798,
     "end_time": "2023-02-12T12:02:37.376588",
     "exception": false,
     "start_time": "2023-02-12T12:02:37.346790",
     "status": "completed"
    },
    "tags": []
   },
   "outputs": [],
   "source": [
    "df.drop(['STATE'],axis=1,inplace=True)"
   ]
  },
  {
   "cell_type": "code",
   "execution_count": 182,
   "id": "11237e91",
   "metadata": {
    "execution": {
     "iopub.execute_input": "2023-02-12T12:02:37.417433Z",
     "iopub.status.busy": "2023-02-12T12:02:37.416649Z",
     "iopub.status.idle": "2023-02-12T12:02:37.435774Z",
     "shell.execute_reply": "2023-02-12T12:02:37.434543Z"
    },
    "id": "pfEhVcYpgpOW",
    "outputId": "8dadc739-a408-4c66-f017-de7d94403901",
    "papermill": {
     "duration": 0.042164,
     "end_time": "2023-02-12T12:02:37.438155",
     "exception": false,
     "start_time": "2023-02-12T12:02:37.395991",
     "status": "completed"
    },
    "tags": []
   },
   "outputs": [
    {
     "data": {
      "text/html": [
       "<div>\n",
       "<style scoped>\n",
       "    .dataframe tbody tr th:only-of-type {\n",
       "        vertical-align: middle;\n",
       "    }\n",
       "\n",
       "    .dataframe tbody tr th {\n",
       "        vertical-align: top;\n",
       "    }\n",
       "\n",
       "    .dataframe thead th {\n",
       "        text-align: right;\n",
       "    }\n",
       "</style>\n",
       "<table border=\"1\" class=\"dataframe\">\n",
       "  <thead>\n",
       "    <tr style=\"text-align: right;\">\n",
       "      <th></th>\n",
       "      <th>N_SOIL</th>\n",
       "      <th>P_SOIL</th>\n",
       "      <th>K_SOIL</th>\n",
       "      <th>TEMPERATURE</th>\n",
       "      <th>HUMIDITY</th>\n",
       "      <th>ph</th>\n",
       "      <th>RAINFALL</th>\n",
       "      <th>CROP_PRICE</th>\n",
       "      <th>CROP</th>\n",
       "    </tr>\n",
       "  </thead>\n",
       "  <tbody>\n",
       "    <tr>\n",
       "      <th>0</th>\n",
       "      <td>90</td>\n",
       "      <td>42</td>\n",
       "      <td>43</td>\n",
       "      <td>20.879744</td>\n",
       "      <td>82.002744</td>\n",
       "      <td>6.502985</td>\n",
       "      <td>202.935536</td>\n",
       "      <td>7000</td>\n",
       "      <td>Rice</td>\n",
       "    </tr>\n",
       "    <tr>\n",
       "      <th>1</th>\n",
       "      <td>85</td>\n",
       "      <td>58</td>\n",
       "      <td>41</td>\n",
       "      <td>21.770462</td>\n",
       "      <td>80.319644</td>\n",
       "      <td>7.038096</td>\n",
       "      <td>226.655537</td>\n",
       "      <td>5000</td>\n",
       "      <td>Rice</td>\n",
       "    </tr>\n",
       "    <tr>\n",
       "      <th>2</th>\n",
       "      <td>60</td>\n",
       "      <td>55</td>\n",
       "      <td>44</td>\n",
       "      <td>23.004459</td>\n",
       "      <td>82.320763</td>\n",
       "      <td>7.840207</td>\n",
       "      <td>263.964248</td>\n",
       "      <td>7000</td>\n",
       "      <td>Rice</td>\n",
       "    </tr>\n",
       "    <tr>\n",
       "      <th>3</th>\n",
       "      <td>74</td>\n",
       "      <td>35</td>\n",
       "      <td>40</td>\n",
       "      <td>26.491096</td>\n",
       "      <td>80.158363</td>\n",
       "      <td>6.980401</td>\n",
       "      <td>242.864034</td>\n",
       "      <td>7000</td>\n",
       "      <td>Rice</td>\n",
       "    </tr>\n",
       "    <tr>\n",
       "      <th>4</th>\n",
       "      <td>78</td>\n",
       "      <td>42</td>\n",
       "      <td>42</td>\n",
       "      <td>20.130175</td>\n",
       "      <td>81.604873</td>\n",
       "      <td>7.628473</td>\n",
       "      <td>262.717340</td>\n",
       "      <td>120000</td>\n",
       "      <td>Rice</td>\n",
       "    </tr>\n",
       "    <tr>\n",
       "      <th>...</th>\n",
       "      <td>...</td>\n",
       "      <td>...</td>\n",
       "      <td>...</td>\n",
       "      <td>...</td>\n",
       "      <td>...</td>\n",
       "      <td>...</td>\n",
       "      <td>...</td>\n",
       "      <td>...</td>\n",
       "      <td>...</td>\n",
       "    </tr>\n",
       "    <tr>\n",
       "      <th>2195</th>\n",
       "      <td>107</td>\n",
       "      <td>34</td>\n",
       "      <td>32</td>\n",
       "      <td>26.774637</td>\n",
       "      <td>66.413269</td>\n",
       "      <td>6.780064</td>\n",
       "      <td>177.774507</td>\n",
       "      <td>1000</td>\n",
       "      <td>Coffee</td>\n",
       "    </tr>\n",
       "    <tr>\n",
       "      <th>2196</th>\n",
       "      <td>99</td>\n",
       "      <td>15</td>\n",
       "      <td>27</td>\n",
       "      <td>27.417112</td>\n",
       "      <td>56.636362</td>\n",
       "      <td>6.086922</td>\n",
       "      <td>127.924610</td>\n",
       "      <td>800</td>\n",
       "      <td>Coffee</td>\n",
       "    </tr>\n",
       "    <tr>\n",
       "      <th>2197</th>\n",
       "      <td>118</td>\n",
       "      <td>33</td>\n",
       "      <td>30</td>\n",
       "      <td>24.131797</td>\n",
       "      <td>67.225123</td>\n",
       "      <td>6.362608</td>\n",
       "      <td>173.322839</td>\n",
       "      <td>560</td>\n",
       "      <td>Coffee</td>\n",
       "    </tr>\n",
       "    <tr>\n",
       "      <th>2198</th>\n",
       "      <td>117</td>\n",
       "      <td>32</td>\n",
       "      <td>34</td>\n",
       "      <td>26.272418</td>\n",
       "      <td>52.127394</td>\n",
       "      <td>6.758793</td>\n",
       "      <td>127.175293</td>\n",
       "      <td>1500</td>\n",
       "      <td>Coffee</td>\n",
       "    </tr>\n",
       "    <tr>\n",
       "      <th>2199</th>\n",
       "      <td>104</td>\n",
       "      <td>18</td>\n",
       "      <td>30</td>\n",
       "      <td>23.603016</td>\n",
       "      <td>60.396475</td>\n",
       "      <td>6.779833</td>\n",
       "      <td>140.937041</td>\n",
       "      <td>1400</td>\n",
       "      <td>Coffee</td>\n",
       "    </tr>\n",
       "  </tbody>\n",
       "</table>\n",
       "<p>2200 rows × 9 columns</p>\n",
       "</div>"
      ],
      "text/plain": [
       "      N_SOIL  P_SOIL  K_SOIL  TEMPERATURE   HUMIDITY        ph    RAINFALL  \\\n",
       "0         90      42      43    20.879744  82.002744  6.502985  202.935536   \n",
       "1         85      58      41    21.770462  80.319644  7.038096  226.655537   \n",
       "2         60      55      44    23.004459  82.320763  7.840207  263.964248   \n",
       "3         74      35      40    26.491096  80.158363  6.980401  242.864034   \n",
       "4         78      42      42    20.130175  81.604873  7.628473  262.717340   \n",
       "...      ...     ...     ...          ...        ...       ...         ...   \n",
       "2195     107      34      32    26.774637  66.413269  6.780064  177.774507   \n",
       "2196      99      15      27    27.417112  56.636362  6.086922  127.924610   \n",
       "2197     118      33      30    24.131797  67.225123  6.362608  173.322839   \n",
       "2198     117      32      34    26.272418  52.127394  6.758793  127.175293   \n",
       "2199     104      18      30    23.603016  60.396475  6.779833  140.937041   \n",
       "\n",
       "      CROP_PRICE    CROP  \n",
       "0           7000    Rice  \n",
       "1           5000    Rice  \n",
       "2           7000    Rice  \n",
       "3           7000    Rice  \n",
       "4         120000    Rice  \n",
       "...          ...     ...  \n",
       "2195        1000  Coffee  \n",
       "2196         800  Coffee  \n",
       "2197         560  Coffee  \n",
       "2198        1500  Coffee  \n",
       "2199        1400  Coffee  \n",
       "\n",
       "[2200 rows x 9 columns]"
      ]
     },
     "execution_count": 182,
     "metadata": {},
     "output_type": "execute_result"
    }
   ],
   "source": [
    "df"
   ]
  },
  {
   "cell_type": "code",
   "execution_count": 183,
   "id": "fcef1637",
   "metadata": {
    "execution": {
     "iopub.execute_input": "2023-02-12T12:02:37.522741Z",
     "iopub.status.busy": "2023-02-12T12:02:37.521493Z",
     "iopub.status.idle": "2023-02-12T12:02:37.532755Z",
     "shell.execute_reply": "2023-02-12T12:02:37.531462Z"
    },
    "id": "8YVLZKdIgxWS",
    "outputId": "46aadfdb-6319-4073-ab8c-d943f9f4e4ac",
    "papermill": {
     "duration": 0.035909,
     "end_time": "2023-02-12T12:02:37.535446",
     "exception": false,
     "start_time": "2023-02-12T12:02:37.499537",
     "status": "completed"
    },
    "tags": []
   },
   "outputs": [
    {
     "name": "stderr",
     "output_type": "stream",
     "text": [
      "C:\\Users\\hrida\\AppData\\Local\\Temp/ipykernel_17276/1665899112.py:1: FutureWarning: Dropping of nuisance columns in DataFrame reductions (with 'numeric_only=None') is deprecated; in a future version this will raise TypeError.  Select only valid columns before calling the reduction.\n",
      "  df.skew()\n"
     ]
    },
    {
     "data": {
      "text/plain": [
       "N_SOIL          0.509721\n",
       "P_SOIL          1.010773\n",
       "K_SOIL          2.375167\n",
       "TEMPERATURE     0.184933\n",
       "HUMIDITY       -1.091708\n",
       "ph              0.283929\n",
       "RAINFALL        0.965756\n",
       "CROP_PRICE     15.926745\n",
       "dtype: float64"
      ]
     },
     "execution_count": 183,
     "metadata": {},
     "output_type": "execute_result"
    }
   ],
   "source": [
    "df.skew()"
   ]
  },
  {
   "cell_type": "code",
   "execution_count": 184,
   "id": "c33824da",
   "metadata": {
    "execution": {
     "iopub.execute_input": "2023-02-12T12:02:37.579236Z",
     "iopub.status.busy": "2023-02-12T12:02:37.578459Z",
     "iopub.status.idle": "2023-02-12T12:02:37.584686Z",
     "shell.execute_reply": "2023-02-12T12:02:37.583665Z"
    },
    "id": "20hfwUjrhDON",
    "papermill": {
     "duration": 0.030518,
     "end_time": "2023-02-12T12:02:37.586940",
     "exception": false,
     "start_time": "2023-02-12T12:02:37.556422",
     "status": "completed"
    },
    "tags": []
   },
   "outputs": [],
   "source": [
    "df.P_SOIL=np.log(df['P_SOIL'])"
   ]
  },
  {
   "cell_type": "code",
   "execution_count": 185,
   "id": "54b12c69",
   "metadata": {
    "execution": {
     "iopub.execute_input": "2023-02-12T12:02:37.630250Z",
     "iopub.status.busy": "2023-02-12T12:02:37.629602Z",
     "iopub.status.idle": "2023-02-12T12:02:37.635395Z",
     "shell.execute_reply": "2023-02-12T12:02:37.634433Z"
    },
    "id": "BPnMsKEPdH9q",
    "papermill": {
     "duration": 0.029925,
     "end_time": "2023-02-12T12:02:37.637613",
     "exception": false,
     "start_time": "2023-02-12T12:02:37.607688",
     "status": "completed"
    },
    "tags": []
   },
   "outputs": [],
   "source": [
    "df.K_SOIL=np.log(df['K_SOIL'])"
   ]
  },
  {
   "cell_type": "code",
   "execution_count": 186,
   "id": "9422ecfe",
   "metadata": {
    "execution": {
     "iopub.execute_input": "2023-02-12T12:02:37.682460Z",
     "iopub.status.busy": "2023-02-12T12:02:37.681834Z",
     "iopub.status.idle": "2023-02-12T12:02:37.688079Z",
     "shell.execute_reply": "2023-02-12T12:02:37.686929Z"
    },
    "id": "FLy_jKBXsShN",
    "papermill": {
     "duration": 0.032063,
     "end_time": "2023-02-12T12:02:37.690468",
     "exception": false,
     "start_time": "2023-02-12T12:02:37.658405",
     "status": "completed"
    },
    "tags": []
   },
   "outputs": [],
   "source": [
    "df['HUMIDITY']=np.log(df['HUMIDITY'])"
   ]
  },
  {
   "cell_type": "code",
   "execution_count": 187,
   "id": "c49ba9e4",
   "metadata": {
    "execution": {
     "iopub.execute_input": "2023-02-12T12:02:37.734760Z",
     "iopub.status.busy": "2023-02-12T12:02:37.734344Z",
     "iopub.status.idle": "2023-02-12T12:02:37.744920Z",
     "shell.execute_reply": "2023-02-12T12:02:37.743739Z"
    },
    "id": "h1gLwSzMktz1",
    "outputId": "a304166c-e1c4-4917-d1c3-44d1d3c31c84",
    "papermill": {
     "duration": 0.035616,
     "end_time": "2023-02-12T12:02:37.747331",
     "exception": false,
     "start_time": "2023-02-12T12:02:37.711715",
     "status": "completed"
    },
    "tags": []
   },
   "outputs": [
    {
     "data": {
      "text/plain": [
       "950.0"
      ]
     },
     "execution_count": 187,
     "metadata": {},
     "output_type": "execute_result"
    }
   ],
   "source": [
    "iq1=df['CROP_PRICE'].quantile(0.25)\n",
    "iq2=df['CROP_PRICE'].quantile(0.75)\n",
    "iq1"
   ]
  },
  {
   "cell_type": "code",
   "execution_count": 188,
   "id": "51368273",
   "metadata": {
    "execution": {
     "iopub.execute_input": "2023-02-12T12:02:37.791675Z",
     "iopub.status.busy": "2023-02-12T12:02:37.791209Z",
     "iopub.status.idle": "2023-02-12T12:02:37.797428Z",
     "shell.execute_reply": "2023-02-12T12:02:37.796497Z"
    },
    "id": "3jcXVgOqlU7h",
    "outputId": "9bfb22c2-4dbe-4cbf-f646-b103f42a1735",
    "papermill": {
     "duration": 0.031201,
     "end_time": "2023-02-12T12:02:37.799566",
     "exception": false,
     "start_time": "2023-02-12T12:02:37.768365",
     "status": "completed"
    },
    "tags": []
   },
   "outputs": [
    {
     "data": {
      "text/plain": [
       "3500.0"
      ]
     },
     "execution_count": 188,
     "metadata": {},
     "output_type": "execute_result"
    }
   ],
   "source": [
    "iq2"
   ]
  },
  {
   "cell_type": "code",
   "execution_count": 189,
   "id": "987dc375",
   "metadata": {
    "execution": {
     "iopub.execute_input": "2023-02-12T12:02:37.844782Z",
     "iopub.status.busy": "2023-02-12T12:02:37.843948Z",
     "iopub.status.idle": "2023-02-12T12:02:37.851952Z",
     "shell.execute_reply": "2023-02-12T12:02:37.850811Z"
    },
    "id": "f50PMganmrZx",
    "papermill": {
     "duration": 0.033787,
     "end_time": "2023-02-12T12:02:37.854449",
     "exception": false,
     "start_time": "2023-02-12T12:02:37.820662",
     "status": "completed"
    },
    "tags": []
   },
   "outputs": [],
   "source": [
    "df['CROP_PRICE']=np.where(df['CROP_PRICE']<iq1,iq1,df['CROP_PRICE'])\n",
    "df['CROP_PRICE']=np.where(df['CROP_PRICE']>iq2,iq2,df['CROP_PRICE'])"
   ]
  },
  {
   "cell_type": "code",
   "execution_count": 190,
   "id": "b523e073",
   "metadata": {
    "execution": {
     "iopub.execute_input": "2023-02-12T12:02:37.898632Z",
     "iopub.status.busy": "2023-02-12T12:02:37.898205Z",
     "iopub.status.idle": "2023-02-12T12:02:37.909517Z",
     "shell.execute_reply": "2023-02-12T12:02:37.908423Z"
    },
    "id": "li-Y1DSuhTDS",
    "outputId": "c2d99bf5-4541-445e-a43c-039913ba0603",
    "papermill": {
     "duration": 0.03621,
     "end_time": "2023-02-12T12:02:37.911753",
     "exception": false,
     "start_time": "2023-02-12T12:02:37.875543",
     "status": "completed"
    },
    "tags": []
   },
   "outputs": [
    {
     "name": "stderr",
     "output_type": "stream",
     "text": [
      "C:\\Users\\hrida\\AppData\\Local\\Temp/ipykernel_17276/1665899112.py:1: FutureWarning: Dropping of nuisance columns in DataFrame reductions (with 'numeric_only=None') is deprecated; in a future version this will raise TypeError.  Select only valid columns before calling the reduction.\n",
      "  df.skew()\n"
     ]
    },
    {
     "data": {
      "text/plain": [
       "N_SOIL         0.509721\n",
       "P_SOIL        -0.782108\n",
       "K_SOIL         0.804010\n",
       "TEMPERATURE    0.184933\n",
       "HUMIDITY      -1.900877\n",
       "ph             0.283929\n",
       "RAINFALL       0.965756\n",
       "CROP_PRICE     0.283069\n",
       "dtype: float64"
      ]
     },
     "execution_count": 190,
     "metadata": {},
     "output_type": "execute_result"
    }
   ],
   "source": [
    "df.skew()"
   ]
  },
  {
   "cell_type": "markdown",
   "id": "b63d8542",
   "metadata": {
    "papermill": {
     "duration": 0.021503,
     "end_time": "2023-02-12T12:02:37.954808",
     "exception": false,
     "start_time": "2023-02-12T12:02:37.933305",
     "status": "completed"
    },
    "tags": []
   },
   "source": [
    "# **ENCODING CATEGORICAL INTO NUMERICAL**"
   ]
  },
  {
   "cell_type": "code",
   "execution_count": 191,
   "id": "64ad842d",
   "metadata": {
    "execution": {
     "iopub.execute_input": "2023-02-12T12:02:38.000611Z",
     "iopub.status.busy": "2023-02-12T12:02:37.999795Z",
     "iopub.status.idle": "2023-02-12T12:02:38.127042Z",
     "shell.execute_reply": "2023-02-12T12:02:38.125826Z"
    },
    "id": "jtdesAoT28zi",
    "papermill": {
     "duration": 0.153413,
     "end_time": "2023-02-12T12:02:38.129698",
     "exception": false,
     "start_time": "2023-02-12T12:02:37.976285",
     "status": "completed"
    },
    "tags": []
   },
   "outputs": [],
   "source": [
    "from sklearn.preprocessing import LabelEncoder\n",
    "le1=LabelEncoder()\n",
    "le2=LabelEncoder()\n",
    "df['CROP']=le1.fit_transform(df['CROP'])\n",
    "# encoded_labels = le1.fit_transform(df['CROP'])\n",
    "# decoded_labels = le1.inverse_transform(encoded_labels)\n",
    "# #df['STATE']=le2.fit_transform(df['STATE'])"
   ]
  },
  {
   "cell_type": "code",
   "execution_count": 206,
   "id": "161834cf",
   "metadata": {},
   "outputs": [],
   "source": [
    "def get_mapping():\n",
    "    label_mapping = dict(zip(range(len(le1.classes_)), le1.classes_))\n",
    "    return label_mapping"
   ]
  },
  {
   "cell_type": "code",
   "execution_count": 208,
   "id": "e84bf959",
   "metadata": {},
   "outputs": [],
   "source": [
    "y = df.pop(\"CROP\")\n",
    "X = df"
   ]
  },
  {
   "cell_type": "code",
   "execution_count": 209,
   "id": "ec41765d",
   "metadata": {
    "execution": {
     "iopub.execute_input": "2023-02-12T12:02:38.425103Z",
     "iopub.status.busy": "2023-02-12T12:02:38.424395Z",
     "iopub.status.idle": "2023-02-12T12:02:38.479728Z",
     "shell.execute_reply": "2023-02-12T12:02:38.478572Z"
    },
    "id": "5JB222eQrd_y",
    "papermill": {
     "duration": 0.081048,
     "end_time": "2023-02-12T12:02:38.482625",
     "exception": false,
     "start_time": "2023-02-12T12:02:38.401577",
     "status": "completed"
    },
    "tags": []
   },
   "outputs": [],
   "source": [
    "from sklearn.model_selection import train_test_split\n",
    "x_train,x_test,y_train,y_test=train_test_split(X,y,train_size=0.7,random_state=1)"
   ]
  },
  {
   "cell_type": "code",
   "execution_count": 210,
   "id": "0fd2189b",
   "metadata": {
    "execution": {
     "iopub.execute_input": "2023-02-12T12:02:38.527688Z",
     "iopub.status.busy": "2023-02-12T12:02:38.527276Z",
     "iopub.status.idle": "2023-02-12T12:02:38.532415Z",
     "shell.execute_reply": "2023-02-12T12:02:38.531557Z"
    },
    "id": "d0JOJgBYrlp6",
    "outputId": "aa15000d-9205-46c7-fbe6-abf28f6553a0",
    "papermill": {
     "duration": 0.030785,
     "end_time": "2023-02-12T12:02:38.535164",
     "exception": false,
     "start_time": "2023-02-12T12:02:38.504379",
     "status": "completed"
    },
    "tags": []
   },
   "outputs": [
    {
     "name": "stdout",
     "output_type": "stream",
     "text": [
      "Training data (1540, 8)\n"
     ]
    }
   ],
   "source": [
    "print(\"Training data\",x_train.shape)"
   ]
  },
  {
   "cell_type": "code",
   "execution_count": 211,
   "id": "369ad229",
   "metadata": {
    "execution": {
     "iopub.execute_input": "2023-02-12T12:02:38.580605Z",
     "iopub.status.busy": "2023-02-12T12:02:38.580219Z",
     "iopub.status.idle": "2023-02-12T12:02:38.585852Z",
     "shell.execute_reply": "2023-02-12T12:02:38.584761Z"
    },
    "id": "Xv9vd_XvroUy",
    "outputId": "a99edecd-e1bb-41ef-d240-375baea9152a",
    "papermill": {
     "duration": 0.031428,
     "end_time": "2023-02-12T12:02:38.588436",
     "exception": false,
     "start_time": "2023-02-12T12:02:38.557008",
     "status": "completed"
    },
    "tags": []
   },
   "outputs": [
    {
     "name": "stdout",
     "output_type": "stream",
     "text": [
      "Training data (660, 8)\n"
     ]
    }
   ],
   "source": [
    "print(\"Training data\",x_test.shape)"
   ]
  },
  {
   "cell_type": "markdown",
   "id": "43cb43fa",
   "metadata": {
    "papermill": {
     "duration": 0.022349,
     "end_time": "2023-02-12T12:02:38.632324",
     "exception": false,
     "start_time": "2023-02-12T12:02:38.609975",
     "status": "completed"
    },
    "tags": []
   },
   "source": [
    "# **IMPORTING ALGORITHM**\n",
    "\n",
    "**NAIVE BAYES**"
   ]
  },
  {
   "cell_type": "code",
   "execution_count": 212,
   "id": "cda0aec8",
   "metadata": {
    "execution": {
     "iopub.execute_input": "2023-02-12T12:02:38.679815Z",
     "iopub.status.busy": "2023-02-12T12:02:38.678627Z",
     "iopub.status.idle": "2023-02-12T12:02:38.686455Z",
     "shell.execute_reply": "2023-02-12T12:02:38.685529Z"
    },
    "id": "TPEuPsoji7W4",
    "papermill": {
     "duration": 0.03445,
     "end_time": "2023-02-12T12:02:38.688962",
     "exception": false,
     "start_time": "2023-02-12T12:02:38.654512",
     "status": "completed"
    },
    "tags": []
   },
   "outputs": [],
   "source": [
    "from sklearn.naive_bayes import GaussianNB\n",
    "model = GaussianNB()"
   ]
  },
  {
   "cell_type": "code",
   "execution_count": 213,
   "id": "2c6b9dd5",
   "metadata": {
    "execution": {
     "iopub.execute_input": "2023-02-12T12:02:38.734685Z",
     "iopub.status.busy": "2023-02-12T12:02:38.733980Z",
     "iopub.status.idle": "2023-02-12T12:02:38.749695Z",
     "shell.execute_reply": "2023-02-12T12:02:38.748527Z"
    },
    "id": "u1q6OLbUi66g",
    "outputId": "c230e39b-a9f7-4fb5-9c58-467f8e1cf977",
    "papermill": {
     "duration": 0.0414,
     "end_time": "2023-02-12T12:02:38.752059",
     "exception": false,
     "start_time": "2023-02-12T12:02:38.710659",
     "status": "completed"
    },
    "tags": []
   },
   "outputs": [
    {
     "data": {
      "text/html": [
       "<style>#sk-container-id-5 {color: black;background-color: white;}#sk-container-id-5 pre{padding: 0;}#sk-container-id-5 div.sk-toggleable {background-color: white;}#sk-container-id-5 label.sk-toggleable__label {cursor: pointer;display: block;width: 100%;margin-bottom: 0;padding: 0.3em;box-sizing: border-box;text-align: center;}#sk-container-id-5 label.sk-toggleable__label-arrow:before {content: \"▸\";float: left;margin-right: 0.25em;color: #696969;}#sk-container-id-5 label.sk-toggleable__label-arrow:hover:before {color: black;}#sk-container-id-5 div.sk-estimator:hover label.sk-toggleable__label-arrow:before {color: black;}#sk-container-id-5 div.sk-toggleable__content {max-height: 0;max-width: 0;overflow: hidden;text-align: left;background-color: #f0f8ff;}#sk-container-id-5 div.sk-toggleable__content pre {margin: 0.2em;color: black;border-radius: 0.25em;background-color: #f0f8ff;}#sk-container-id-5 input.sk-toggleable__control:checked~div.sk-toggleable__content {max-height: 200px;max-width: 100%;overflow: auto;}#sk-container-id-5 input.sk-toggleable__control:checked~label.sk-toggleable__label-arrow:before {content: \"▾\";}#sk-container-id-5 div.sk-estimator input.sk-toggleable__control:checked~label.sk-toggleable__label {background-color: #d4ebff;}#sk-container-id-5 div.sk-label input.sk-toggleable__control:checked~label.sk-toggleable__label {background-color: #d4ebff;}#sk-container-id-5 input.sk-hidden--visually {border: 0;clip: rect(1px 1px 1px 1px);clip: rect(1px, 1px, 1px, 1px);height: 1px;margin: -1px;overflow: hidden;padding: 0;position: absolute;width: 1px;}#sk-container-id-5 div.sk-estimator {font-family: monospace;background-color: #f0f8ff;border: 1px dotted black;border-radius: 0.25em;box-sizing: border-box;margin-bottom: 0.5em;}#sk-container-id-5 div.sk-estimator:hover {background-color: #d4ebff;}#sk-container-id-5 div.sk-parallel-item::after {content: \"\";width: 100%;border-bottom: 1px solid gray;flex-grow: 1;}#sk-container-id-5 div.sk-label:hover label.sk-toggleable__label {background-color: #d4ebff;}#sk-container-id-5 div.sk-serial::before {content: \"\";position: absolute;border-left: 1px solid gray;box-sizing: border-box;top: 0;bottom: 0;left: 50%;z-index: 0;}#sk-container-id-5 div.sk-serial {display: flex;flex-direction: column;align-items: center;background-color: white;padding-right: 0.2em;padding-left: 0.2em;position: relative;}#sk-container-id-5 div.sk-item {position: relative;z-index: 1;}#sk-container-id-5 div.sk-parallel {display: flex;align-items: stretch;justify-content: center;background-color: white;position: relative;}#sk-container-id-5 div.sk-item::before, #sk-container-id-5 div.sk-parallel-item::before {content: \"\";position: absolute;border-left: 1px solid gray;box-sizing: border-box;top: 0;bottom: 0;left: 50%;z-index: -1;}#sk-container-id-5 div.sk-parallel-item {display: flex;flex-direction: column;z-index: 1;position: relative;background-color: white;}#sk-container-id-5 div.sk-parallel-item:first-child::after {align-self: flex-end;width: 50%;}#sk-container-id-5 div.sk-parallel-item:last-child::after {align-self: flex-start;width: 50%;}#sk-container-id-5 div.sk-parallel-item:only-child::after {width: 0;}#sk-container-id-5 div.sk-dashed-wrapped {border: 1px dashed gray;margin: 0 0.4em 0.5em 0.4em;box-sizing: border-box;padding-bottom: 0.4em;background-color: white;}#sk-container-id-5 div.sk-label label {font-family: monospace;font-weight: bold;display: inline-block;line-height: 1.2em;}#sk-container-id-5 div.sk-label-container {text-align: center;}#sk-container-id-5 div.sk-container {/* jupyter's `normalize.less` sets `[hidden] { display: none; }` but bootstrap.min.css set `[hidden] { display: none !important; }` so we also need the `!important` here to be able to override the default hidden behavior on the sphinx rendered scikit-learn.org. See: https://github.com/scikit-learn/scikit-learn/issues/21755 */display: inline-block !important;position: relative;}#sk-container-id-5 div.sk-text-repr-fallback {display: none;}</style><div id=\"sk-container-id-5\" class=\"sk-top-container\"><div class=\"sk-text-repr-fallback\"><pre>GaussianNB()</pre><b>In a Jupyter environment, please rerun this cell to show the HTML representation or trust the notebook. <br />On GitHub, the HTML representation is unable to render, please try loading this page with nbviewer.org.</b></div><div class=\"sk-container\" hidden><div class=\"sk-item\"><div class=\"sk-estimator sk-toggleable\"><input class=\"sk-toggleable__control sk-hidden--visually\" id=\"sk-estimator-id-5\" type=\"checkbox\" checked><label for=\"sk-estimator-id-5\" class=\"sk-toggleable__label sk-toggleable__label-arrow\">GaussianNB</label><div class=\"sk-toggleable__content\"><pre>GaussianNB()</pre></div></div></div></div></div>"
      ],
      "text/plain": [
       "GaussianNB()"
      ]
     },
     "execution_count": 213,
     "metadata": {},
     "output_type": "execute_result"
    }
   ],
   "source": [
    "model.fit(x_train,y_train)"
   ]
  },
  {
   "cell_type": "markdown",
   "id": "52099dfa",
   "metadata": {
    "papermill": {
     "duration": 0.02177,
     "end_time": "2023-02-12T12:02:38.796265",
     "exception": false,
     "start_time": "2023-02-12T12:02:38.774495",
     "status": "completed"
    },
    "tags": []
   },
   "source": [
    "**PREDICTION OF CROP**"
   ]
  },
  {
   "cell_type": "code",
   "execution_count": 214,
   "id": "08db98d0",
   "metadata": {
    "execution": {
     "iopub.execute_input": "2023-02-12T12:02:38.842369Z",
     "iopub.status.busy": "2023-02-12T12:02:38.841718Z",
     "iopub.status.idle": "2023-02-12T12:02:38.849726Z",
     "shell.execute_reply": "2023-02-12T12:02:38.848491Z"
    },
    "id": "Bsfy7iiWjPqZ",
    "papermill": {
     "duration": 0.034393,
     "end_time": "2023-02-12T12:02:38.852568",
     "exception": false,
     "start_time": "2023-02-12T12:02:38.818175",
     "status": "completed"
    },
    "tags": []
   },
   "outputs": [],
   "source": [
    "y_prediction=model.predict_proba(x_test)"
   ]
  },
  {
   "cell_type": "markdown",
   "id": "ef0fb372",
   "metadata": {
    "papermill": {
     "duration": 0.024837,
     "end_time": "2023-02-12T12:02:38.902752",
     "exception": false,
     "start_time": "2023-02-12T12:02:38.877915",
     "status": "completed"
    },
    "tags": []
   },
   "source": [
    "# **MODEL METRICS**"
   ]
  },
  {
   "cell_type": "code",
   "execution_count": 215,
   "id": "1d066786",
   "metadata": {
    "execution": {
     "iopub.execute_input": "2023-02-12T12:02:38.953144Z",
     "iopub.status.busy": "2023-02-12T12:02:38.952685Z",
     "iopub.status.idle": "2023-02-12T12:02:38.960666Z",
     "shell.execute_reply": "2023-02-12T12:02:38.959792Z"
    },
    "id": "ucb9FSY5jUzQ",
    "outputId": "a9a2bfd6-e44c-49b8-cc69-fe8ae66de683",
    "papermill": {
     "duration": 0.034782,
     "end_time": "2023-02-12T12:02:38.962852",
     "exception": false,
     "start_time": "2023-02-12T12:02:38.928070",
     "status": "completed"
    },
    "tags": []
   },
   "outputs": [
    {
     "data": {
      "text/plain": [
       "0.9811780341458874"
      ]
     },
     "execution_count": 215,
     "metadata": {},
     "output_type": "execute_result"
    }
   ],
   "source": [
    "from sklearn.metrics import accuracy_score, log_loss\n",
    "1-log_loss(y_test,y_prediction)"
   ]
  },
  {
   "cell_type": "markdown",
   "id": "5b7028b3",
   "metadata": {
    "papermill": {
     "duration": 0.022567,
     "end_time": "2023-02-12T12:02:39.008463",
     "exception": false,
     "start_time": "2023-02-12T12:02:38.985896",
     "status": "completed"
    },
    "tags": []
   },
   "source": [
    "# **SAVING THE MODEL**"
   ]
  },
  {
   "cell_type": "code",
   "execution_count": 216,
   "id": "281b9ddd",
   "metadata": {
    "execution": {
     "iopub.execute_input": "2023-02-12T12:02:39.063589Z",
     "iopub.status.busy": "2023-02-12T12:02:39.063011Z",
     "iopub.status.idle": "2023-02-12T12:02:39.067799Z",
     "shell.execute_reply": "2023-02-12T12:02:39.066909Z"
    },
    "id": "e3fvdWo0hMhO",
    "papermill": {
     "duration": 0.037299,
     "end_time": "2023-02-12T12:02:39.071309",
     "exception": false,
     "start_time": "2023-02-12T12:02:39.034010",
     "status": "completed"
    },
    "tags": []
   },
   "outputs": [],
   "source": [
    "import pickle"
   ]
  },
  {
   "cell_type": "code",
   "execution_count": 217,
   "id": "cc343ea1",
   "metadata": {
    "execution": {
     "iopub.execute_input": "2023-02-12T12:02:39.125964Z",
     "iopub.status.busy": "2023-02-12T12:02:39.125556Z",
     "iopub.status.idle": "2023-02-12T12:02:39.131232Z",
     "shell.execute_reply": "2023-02-12T12:02:39.130170Z"
    },
    "id": "k_X6iXEGjSGt",
    "papermill": {
     "duration": 0.033531,
     "end_time": "2023-02-12T12:02:39.133498",
     "exception": false,
     "start_time": "2023-02-12T12:02:39.099967",
     "status": "completed"
    },
    "tags": []
   },
   "outputs": [],
   "source": [
    "filename='crop_model_final.sav'\n",
    "pickle.dump(model,open(filename,'wb'))"
   ]
  },
  {
   "cell_type": "code",
   "execution_count": 118,
   "id": "44121cd6",
   "metadata": {
    "execution": {
     "iopub.execute_input": "2023-02-12T12:02:39.179984Z",
     "iopub.status.busy": "2023-02-12T12:02:39.179575Z",
     "iopub.status.idle": "2023-02-12T12:02:39.185230Z",
     "shell.execute_reply": "2023-02-12T12:02:39.184088Z"
    },
    "id": "L_ih5sMMjU4E",
    "papermill": {
     "duration": 0.031874,
     "end_time": "2023-02-12T12:02:39.187673",
     "exception": false,
     "start_time": "2023-02-12T12:02:39.155799",
     "status": "completed"
    },
    "tags": []
   },
   "outputs": [],
   "source": [
    "loaded_model=pickle.load(open('crop_model_final.sav','rb'))"
   ]
  },
  {
   "cell_type": "code",
   "execution_count": 107,
   "id": "14479b32",
   "metadata": {},
   "outputs": [
    {
     "data": {
      "text/plain": [
       "Index(['N_SOIL', 'P_SOIL', 'K_SOIL', 'TEMPERATURE', 'HUMIDITY', 'ph',\n",
       "       'RAINFALL', 'CROP_PRICE'],\n",
       "      dtype='object')"
      ]
     },
     "execution_count": 107,
     "metadata": {},
     "output_type": "execute_result"
    }
   ],
   "source": [
    "X.columns"
   ]
  },
  {
   "cell_type": "code",
   "execution_count": 110,
   "id": "c45125bd",
   "metadata": {
    "execution": {
     "iopub.execute_input": "2023-02-12T12:02:39.234353Z",
     "iopub.status.busy": "2023-02-12T12:02:39.233252Z",
     "iopub.status.idle": "2023-02-12T12:02:39.244440Z",
     "shell.execute_reply": "2023-02-12T12:02:39.242913Z"
    },
    "id": "CSCmsMPNji2a",
    "outputId": "df0dc7fa-07ce-4556-fcb3-b143a178a85f",
    "papermill": {
     "duration": 0.037557,
     "end_time": "2023-02-12T12:02:39.247346",
     "exception": false,
     "start_time": "2023-02-12T12:02:39.209789",
     "status": "completed"
    },
    "tags": []
   },
   "outputs": [
    {
     "name": "stdout",
     "output_type": "stream",
     "text": [
      "[[0.00000000e+000 7.08847583e-269 1.95291680e-135 2.43642667e-005\n",
      "  0.00000000e+000 4.10532297e-039 2.52646870e-239 0.00000000e+000\n",
      "  2.73478623e-104 1.15460042e-020 2.32427393e-144 7.99741619e-049\n",
      "  3.77214799e-065 3.14188247e-010 1.84171077e-282 0.00000000e+000\n",
      "  0.00000000e+000 0.00000000e+000 9.99975635e-001 0.00000000e+000\n",
      "  0.00000000e+000 1.13331409e-296]]\n"
     ]
    },
    {
     "name": "stderr",
     "output_type": "stream",
     "text": [
      "C:\\Users\\hrida\\anaconda3\\lib\\site-packages\\sklearn\\base.py:439: UserWarning: X does not have valid feature names, but GaussianNB was fitted with feature names\n",
      "  warnings.warn(\n"
     ]
    }
   ],
   "source": [
    "input_data=(49,4.234107,4.406719,34.315615,2.731860,7.263119,81.787105,350.0)\n",
    "input_array=np.asarray(input_data)\n",
    "data_reshape=input_array.reshape(1,-1)\n",
    "prediction=model.predict_proba(data_reshape)\n",
    "print(prediction)"
   ]
  },
  {
   "cell_type": "code",
   "execution_count": 111,
   "id": "4fc00498",
   "metadata": {},
   "outputs": [],
   "source": [
    "def get_three_max_indices(numbers):\n",
    "    indices = np.argsort(numbers)[-3:][::-1]\n",
    "    return indices"
   ]
  },
  {
   "cell_type": "code",
   "execution_count": 115,
   "id": "9d5dee52",
   "metadata": {},
   "outputs": [
    {
     "name": "stdout",
     "output_type": "stream",
     "text": [
      "Indices of the top three maximum values: [18  3 13]\n"
     ]
    }
   ],
   "source": [
    "flattened_array = prediction.flatten()\n",
    "\n",
    "# Get the indices of the top three maximum values\n",
    "top_three_indices = np.argsort(flattened_array)[-3:][::-1]\n",
    "\n",
    "print(\"Indices of the top three maximum values:\", top_three_indices)"
   ]
  },
  {
   "cell_type": "code",
   "execution_count": 218,
   "id": "47161fca",
   "metadata": {},
   "outputs": [
    {
     "data": {
      "text/plain": [
       "array(['Apple', 'Banana', 'Blackgram', 'ChickPea', 'Coconut', 'Coffee',\n",
       "       'Cotton', 'Grapes', 'Jute', 'KidneyBeans', 'Lentil', 'Maize',\n",
       "       'Mango', 'MothBeans', 'MungBean', 'Muskmelon', 'Orange', 'Papaya',\n",
       "       'PigeonPeas', 'Pomegranate', 'Rice', 'Watermelon'], dtype=object)"
      ]
     },
     "execution_count": 218,
     "metadata": {},
     "output_type": "execute_result"
    }
   ],
   "source": [
    "le1.classes_"
   ]
  },
  {
   "cell_type": "code",
   "execution_count": null,
   "id": "7b4c927d",
   "metadata": {},
   "outputs": [],
   "source": []
  }
 ],
 "metadata": {
  "kernelspec": {
   "display_name": "Python 3 (ipykernel)",
   "language": "python",
   "name": "python3"
  },
  "language_info": {
   "codemirror_mode": {
    "name": "ipython",
    "version": 3
   },
   "file_extension": ".py",
   "mimetype": "text/x-python",
   "name": "python",
   "nbconvert_exporter": "python",
   "pygments_lexer": "ipython3",
   "version": "3.9.7"
  },
  "papermill": {
   "default_parameters": {},
   "duration": 13.004849,
   "end_time": "2023-02-12T12:02:40.035618",
   "environment_variables": {},
   "exception": null,
   "input_path": "__notebook__.ipynb",
   "output_path": "__notebook__.ipynb",
   "parameters": {},
   "start_time": "2023-02-12T12:02:27.030769",
   "version": "2.3.4"
  }
 },
 "nbformat": 4,
 "nbformat_minor": 5
}
